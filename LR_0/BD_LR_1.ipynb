{
  "nbformat": 4,
  "nbformat_minor": 0,
  "metadata": {
    "colab": {
      "provenance": []
    },
    "kernelspec": {
      "name": "python3",
      "display_name": "Python 3"
    }
  },
  "cells": [
    {
      "cell_type": "markdown",
      "metadata": {
        "id": "82OvPKEiEqjc"
      },
      "source": [
        "# Введение в MapReduce модель на Python\n"
      ]
    },
    {
      "cell_type": "code",
      "metadata": {
        "id": "JQ2cvXLjICmI"
      },
      "source": [
        "from typing import NamedTuple # requires python 3.6+\n",
        "from typing import Iterator"
      ],
      "execution_count": 2,
      "outputs": []
    },
    {
      "cell_type": "code",
      "metadata": {
        "id": "yjPHumVwEyEg"
      },
      "source": [
        "def MAP(_, row:NamedTuple):\n",
        "  if (row.gender == 'female'):\n",
        "    yield (row.age, row)\n",
        "\n",
        "def REDUCE(age:str, rows:Iterator[NamedTuple]):\n",
        "  sum = 0\n",
        "  count = 0\n",
        "  for row in rows:\n",
        "    sum += row.social_contacts\n",
        "    count += 1\n",
        "  if (count > 0):\n",
        "    yield (age, sum/count)\n",
        "  else:\n",
        "    yield (age, 0)"
      ],
      "execution_count": 3,
      "outputs": []
    },
    {
      "cell_type": "markdown",
      "metadata": {
        "id": "vBKMgpG_ilaZ"
      },
      "source": [
        "Модель элемента данных"
      ]
    },
    {
      "cell_type": "code",
      "metadata": {
        "id": "Rv-XIjhTJPx3"
      },
      "source": [
        "class User(NamedTuple):\n",
        "  id: int\n",
        "  age: str\n",
        "  social_contacts: int\n",
        "  gender: str"
      ],
      "execution_count": null,
      "outputs": []
    },
    {
      "cell_type": "code",
      "metadata": {
        "id": "5KV0Ze2vQgu5"
      },
      "source": [
        "input_collection = [\n",
        "    User(id=0, age=55, gender='male', social_contacts=20),\n",
        "    User(id=1, age=25, gender='female', social_contacts=240),\n",
        "    User(id=2, age=25, gender='female', social_contacts=500),\n",
        "    User(id=3, age=33, gender='female', social_contacts=800)\n",
        "]"
      ],
      "execution_count": null,
      "outputs": []
    },
    {
      "cell_type": "markdown",
      "metadata": {
        "id": "YFeqzyZxZIFZ"
      },
      "source": [
        "Функция RECORDREADER моделирует чтение элементов с диска или по сети."
      ]
    },
    {
      "cell_type": "code",
      "metadata": {
        "id": "S5HR4E_GQoMJ"
      },
      "source": [
        "def RECORDREADER():\n",
        "  return [(u.id, u) for u in input_collection]"
      ],
      "execution_count": null,
      "outputs": []
    },
    {
      "cell_type": "code",
      "metadata": {
        "id": "NeEoWla-ROUy",
        "colab": {
          "base_uri": "https://localhost:8080/",
          "height": 85
        },
        "outputId": "94ca6e0e-4644-4282-acbf-1759d7ba2918"
      },
      "source": [
        "list(RECORDREADER())"
      ],
      "execution_count": null,
      "outputs": [
        {
          "output_type": "execute_result",
          "data": {
            "text/plain": [
              "[(0, User(id=0, age=55, social_contacts=20, gender='male')),\n",
              " (1, User(id=1, age=25, social_contacts=240, gender='female')),\n",
              " (2, User(id=2, age=25, social_contacts=500, gender='female')),\n",
              " (3, User(id=3, age=33, social_contacts=800, gender='female'))]"
            ]
          },
          "metadata": {
            "tags": []
          },
          "execution_count": 20
        }
      ]
    },
    {
      "cell_type": "code",
      "metadata": {
        "id": "YB8orgPSZs8M"
      },
      "source": [
        "def flatten(nested_iterable):\n",
        "  for iterable in nested_iterable:\n",
        "    for element in iterable:\n",
        "      yield element"
      ],
      "execution_count": null,
      "outputs": []
    },
    {
      "cell_type": "code",
      "metadata": {
        "id": "74oyvDLaRmd5",
        "colab": {
          "base_uri": "https://localhost:8080/",
          "height": 68
        },
        "outputId": "c6147702-7153-47c7-a574-d5fe6abe29a8"
      },
      "source": [
        "map_output = flatten(map(lambda x: MAP(*x), RECORDREADER()))\n",
        "map_output = list(map_output) # materialize\n",
        "map_output"
      ],
      "execution_count": null,
      "outputs": [
        {
          "output_type": "execute_result",
          "data": {
            "text/plain": [
              "[(25, User(id=1, age=25, social_contacts=240, gender='female')),\n",
              " (25, User(id=2, age=25, social_contacts=500, gender='female')),\n",
              " (33, User(id=3, age=33, social_contacts=800, gender='female'))]"
            ]
          },
          "metadata": {
            "tags": []
          },
          "execution_count": 22
        }
      ]
    },
    {
      "cell_type": "code",
      "metadata": {
        "id": "8ncYDJ3-VzDn"
      },
      "source": [
        "def groupbykey(iterable):\n",
        "  t = {}\n",
        "  for (k2, v2) in iterable:\n",
        "    t[k2] = t.get(k2, []) + [v2]\n",
        "  return t.items()"
      ],
      "execution_count": null,
      "outputs": []
    },
    {
      "cell_type": "code",
      "metadata": {
        "id": "cKzY_6COWOA2",
        "colab": {
          "base_uri": "https://localhost:8080/",
          "height": 85
        },
        "outputId": "e6791b12-e409-47e9-bcd4-e9f8ca8611bd"
      },
      "source": [
        "shuffle_output = groupbykey(map_output)\n",
        "shuffle_output = list(shuffle_output)\n",
        "shuffle_output"
      ],
      "execution_count": null,
      "outputs": [
        {
          "output_type": "execute_result",
          "data": {
            "text/plain": [
              "[(25,\n",
              "  [User(id=1, age=25, social_contacts=240, gender='female'),\n",
              "   User(id=2, age=25, social_contacts=500, gender='female')]),\n",
              " (33, [User(id=3, age=33, social_contacts=800, gender='female')])]"
            ]
          },
          "metadata": {
            "tags": []
          },
          "execution_count": 24
        }
      ]
    },
    {
      "cell_type": "code",
      "metadata": {
        "id": "NlA7lkDDYL0t",
        "colab": {
          "base_uri": "https://localhost:8080/",
          "height": 34
        },
        "outputId": "6b25d03f-5c92-4f3b-f500-6d70acd598b7"
      },
      "source": [
        "reduce_output = flatten(map(lambda x: REDUCE(*x), shuffle_output))\n",
        "reduce_output = list(reduce_output)\n",
        "reduce_output"
      ],
      "execution_count": null,
      "outputs": [
        {
          "output_type": "execute_result",
          "data": {
            "text/plain": [
              "[(25, 370.0), (33, 800.0)]"
            ]
          },
          "metadata": {
            "tags": []
          },
          "execution_count": 25
        }
      ]
    },
    {
      "cell_type": "markdown",
      "metadata": {
        "id": "xf6qhHEtd6bI"
      },
      "source": [
        "Все действия одним конвейером!"
      ]
    },
    {
      "cell_type": "code",
      "metadata": {
        "id": "dZaQGYxCdpw5",
        "colab": {
          "base_uri": "https://localhost:8080/",
          "height": 34
        },
        "outputId": "3f5c6425-e5c5-49d2-b2cd-ce58a9acc33c"
      },
      "source": [
        "list(flatten(map(lambda x: REDUCE(*x), groupbykey(flatten(map(lambda x: MAP(*x), RECORDREADER()))))))"
      ],
      "execution_count": null,
      "outputs": [
        {
          "output_type": "execute_result",
          "data": {
            "text/plain": [
              "[(25, 370.0), (33, 800.0)]"
            ]
          },
          "metadata": {
            "tags": []
          },
          "execution_count": 26
        }
      ]
    },
    {
      "cell_type": "markdown",
      "metadata": {
        "id": "Vq3EWRIpwSiJ"
      },
      "source": [
        "# **MapReduce**\n",
        "Выделим общую для всех пользователей часть системы в отдельную функцию высшего порядка. Это наиболее простая модель MapReduce, без учёта распределённого хранения данных.\n",
        "\n",
        "Пользователь для решения своей задачи реализует RECORDREADER, MAP, REDUCE."
      ]
    },
    {
      "cell_type": "code",
      "metadata": {
        "id": "V1PZeQMwwVjc"
      },
      "source": [
        "def flatten(nested_iterable):\n",
        "  for iterable in nested_iterable:\n",
        "    for element in iterable:\n",
        "      yield element\n",
        "\n",
        "def groupbykey(iterable):\n",
        "  t = {}\n",
        "  for (k2, v2) in iterable:\n",
        "    t[k2] = t.get(k2, []) + [v2]\n",
        "  return t.items()\n",
        "\n",
        "def MapReduce(RECORDREADER, MAP, REDUCE):\n",
        "  return flatten(map(lambda x: REDUCE(*x), groupbykey(flatten(map(lambda x: MAP(*x), RECORDREADER())))))"
      ],
      "execution_count": null,
      "outputs": []
    },
    {
      "cell_type": "markdown",
      "metadata": {
        "id": "iFIVrimep678"
      },
      "source": [
        "## Спецификация MapReduce\n",
        "\n",
        "\n",
        "\n",
        "```\n",
        "f (k1, v1) -> (k2,v2)*\n",
        "g (k2, v2*) -> (k3,v3)*\n",
        "\n",
        "mapreduce ((k1,v1)*) -> (k3,v3)*\n",
        "groupby ((k2,v2)*) -> (k2,v2*)*\n",
        "flatten (e2**) -> e2*\n",
        "\n",
        "mapreduce .map(f).flatten.groupby(k2).map(g).flatten\n",
        "```\n",
        "\n",
        "\n"
      ]
    },
    {
      "cell_type": "markdown",
      "metadata": {
        "id": "QtTFyqke3KGe"
      },
      "source": [
        "# Примеры"
      ]
    },
    {
      "cell_type": "markdown",
      "metadata": {
        "id": "BNhh5763w5Vn"
      },
      "source": [
        "## SQL"
      ]
    },
    {
      "cell_type": "code",
      "metadata": {
        "id": "QkyurnvGxBGk",
        "colab": {
          "base_uri": "https://localhost:8080/",
          "height": 34
        },
        "outputId": "84761282-d2ba-435a-e8d7-a85150730e10"
      },
      "source": [
        "from typing import NamedTuple # requires python 3.6+\n",
        "from typing import Iterator\n",
        "\n",
        "class User(NamedTuple):\n",
        "  id: int\n",
        "  age: str\n",
        "  social_contacts: int\n",
        "  gender: str\n",
        "\n",
        "input_collection = [\n",
        "    User(id=0, age=55, gender='male', social_contacts=20),\n",
        "    User(id=1, age=25, gender='female', social_contacts=240),\n",
        "    User(id=2, age=25, gender='female', social_contacts=500),\n",
        "    User(id=3, age=33, gender='female', social_contacts=800)\n",
        "]\n",
        "\n",
        "def MAP(_, row:NamedTuple):\n",
        "  if (row.gender == 'female'):\n",
        "    yield (row.age, row)\n",
        "\n",
        "def REDUCE(age:str, rows:Iterator[NamedTuple]):\n",
        "  sum = 0\n",
        "  count = 0\n",
        "  for row in rows:\n",
        "    sum += row.social_contacts\n",
        "    count += 1\n",
        "  if (count > 0):\n",
        "    yield (age, sum/count)\n",
        "  else:\n",
        "    yield (age, 0)\n",
        "\n",
        "def RECORDREADER():\n",
        "  return [(u.id, u) for u in input_collection]\n",
        "\n",
        "output = MapReduce(RECORDREADER, MAP, REDUCE)\n",
        "output = list(output)\n",
        "output"
      ],
      "execution_count": null,
      "outputs": [
        {
          "output_type": "execute_result",
          "data": {
            "text/plain": [
              "[(25, 370.0), (33, 800.0)]"
            ]
          },
          "metadata": {
            "tags": []
          },
          "execution_count": 28
        }
      ]
    },
    {
      "cell_type": "markdown",
      "metadata": {
        "id": "kNKYIeerx0nY"
      },
      "source": [
        "## Matrix-Vector multiplication"
      ]
    },
    {
      "cell_type": "code",
      "metadata": {
        "id": "rwcntRcCyi1V",
        "colab": {
          "base_uri": "https://localhost:8080/",
          "height": 102
        },
        "outputId": "606737ab-6b55-455c-931f-4fc45155f8a9"
      },
      "source": [
        "from typing import Iterator\n",
        "import numpy as np\n",
        "\n",
        "mat = np.ones((5,4))\n",
        "vec = np.random.rand(4) # in-memory vector in all map tasks\n",
        "\n",
        "def MAP(coordinates:(int, int), value:int):\n",
        "  i, j = coordinates\n",
        "  yield (i, value*vec[j])\n",
        "\n",
        "def REDUCE(i:int, products:Iterator[NamedTuple]):\n",
        "  sum = 0\n",
        "  for p in products:\n",
        "    sum += p\n",
        "  yield (i, sum)\n",
        "\n",
        "def RECORDREADER():\n",
        "  for i in range(mat.shape[0]):\n",
        "    for j in range(mat.shape[1]):\n",
        "      yield ((i, j), mat[i,j])\n",
        "\n",
        "output = MapReduce(RECORDREADER, MAP, REDUCE)\n",
        "output = list(output)\n",
        "output"
      ],
      "execution_count": null,
      "outputs": [
        {
          "output_type": "execute_result",
          "data": {
            "text/plain": [
              "[(0, 2.905589809636405),\n",
              " (1, 2.905589809636405),\n",
              " (2, 2.905589809636405),\n",
              " (3, 2.905589809636405),\n",
              " (4, 2.905589809636405)]"
            ]
          },
          "metadata": {
            "tags": []
          },
          "execution_count": 29
        }
      ]
    },
    {
      "cell_type": "markdown",
      "metadata": {
        "id": "ruZREYdi2o4O"
      },
      "source": [
        "## Inverted index"
      ]
    },
    {
      "cell_type": "code",
      "metadata": {
        "id": "vt9H9Alf3TYv",
        "colab": {
          "base_uri": "https://localhost:8080/",
          "height": 102
        },
        "outputId": "51aeffc9-e111-4607-bd84-cfcc7b56f238"
      },
      "source": [
        "from typing import Iterator\n",
        "\n",
        "d1 = \"it is what it is\"\n",
        "d2 = \"what is it\"\n",
        "d3 = \"it is a banana\"\n",
        "documents = [d1, d2, d3]\n",
        "\n",
        "def RECORDREADER():\n",
        "  for (docid, document) in enumerate(documents):\n",
        "    yield (\"{}\".format(docid), document)\n",
        "\n",
        "def MAP(docId:str, body:str):\n",
        "  for word in set(body.split(' ')):\n",
        "    yield (word, docId)\n",
        "\n",
        "def REDUCE(word:str, docIds:Iterator[str]):\n",
        "  yield (word, sorted(docIds))\n",
        "\n",
        "output = MapReduce(RECORDREADER, MAP, REDUCE)\n",
        "output = list(output)\n",
        "output"
      ],
      "execution_count": null,
      "outputs": [
        {
          "output_type": "execute_result",
          "data": {
            "text/plain": [
              "[('what', ['0', '1']),\n",
              " ('is', ['0', '1', '2']),\n",
              " ('it', ['0', '1', '2']),\n",
              " ('a', ['2']),\n",
              " ('banana', ['2'])]"
            ]
          },
          "metadata": {
            "tags": []
          },
          "execution_count": 30
        }
      ]
    },
    {
      "cell_type": "markdown",
      "metadata": {
        "id": "R7az-6DA6qr2"
      },
      "source": [
        "## WordCount"
      ]
    },
    {
      "cell_type": "code",
      "metadata": {
        "id": "dN-nbtgG6uYG",
        "colab": {
          "base_uri": "https://localhost:8080/",
          "height": 34
        },
        "outputId": "24117576-7931-401d-a581-28e246b23453"
      },
      "source": [
        "from typing import Iterator\n",
        "\n",
        "d1 = \"\"\"\n",
        "it is what it is\n",
        "it is what it is\n",
        "it is what it is\"\"\"\n",
        "d2 = \"\"\"\n",
        "what is it\n",
        "what is it\"\"\"\n",
        "d3 = \"\"\"\n",
        "it is a banana\"\"\"\n",
        "documents = [d1, d2, d3]\n",
        "\n",
        "def RECORDREADER():\n",
        "  for (docid, document) in enumerate(documents):\n",
        "    for (lineid, line) in enumerate(document.split('\\n')):\n",
        "      yield (\"{}:{}\".format(docid,lineid), line)\n",
        "\n",
        "def MAP(docId:str, line:str):\n",
        "  for word in line.split(\" \"):\n",
        "    yield (word, 1)\n",
        "\n",
        "def REDUCE(word:str, counts:Iterator[int]):\n",
        "  sum = 0\n",
        "  for c in counts:\n",
        "    sum += c\n",
        "  yield (word, sum)\n",
        "\n",
        "output = MapReduce(RECORDREADER, MAP, REDUCE)\n",
        "output = list(output)\n",
        "output"
      ],
      "execution_count": null,
      "outputs": [
        {
          "output_type": "execute_result",
          "data": {
            "text/plain": [
              "[('', 3), ('it', 9), ('is', 9), ('what', 5), ('a', 1), ('banana', 1)]"
            ]
          },
          "metadata": {
            "tags": []
          },
          "execution_count": 31
        }
      ]
    },
    {
      "cell_type": "markdown",
      "metadata": {
        "id": "h-jRAcYCAkkk"
      },
      "source": [
        "# MapReduce Distributed\n",
        "\n",
        "Добавляется в модель фабрика RECORDREARER-ов --- INPUTFORMAT, функция распределения промежуточных результатов по партициям PARTITIONER, и функция COMBINER для частичной аггрегации промежуточных результатов до распределения по новым партициям."
      ]
    },
    {
      "cell_type": "code",
      "metadata": {
        "id": "nw-b-xJsApgW"
      },
      "source": [
        "def flatten(nested_iterable):\n",
        "  for iterable in nested_iterable:\n",
        "    for element in iterable:\n",
        "      yield element\n",
        "\n",
        "def groupbykey(iterable):\n",
        "  t = {}\n",
        "  for (k2, v2) in iterable:\n",
        "    t[k2] = t.get(k2, []) + [v2]\n",
        "  return t.items()\n",
        "\n",
        "def groupbykey_distributed(map_partitions, PARTITIONER):\n",
        "  global reducers\n",
        "  partitions = [dict() for _ in range(reducers)]\n",
        "  for map_partition in map_partitions:\n",
        "    for (k2, v2) in map_partition:\n",
        "      p = partitions[PARTITIONER(k2)]\n",
        "      p[k2] = p.get(k2, []) + [v2]\n",
        "  return [(partition_id, sorted(partition.items(), key=lambda x: x[0])) for (partition_id, partition) in enumerate(partitions)]\n",
        "\n",
        "def PARTITIONER(obj):\n",
        "  global reducers\n",
        "  return hash(obj) % reducers\n",
        "\n",
        "def MapReduceDistributed(INPUTFORMAT, MAP, REDUCE, PARTITIONER=PARTITIONER, COMBINER=None):\n",
        "  map_partitions = map(lambda record_reader: flatten(map(lambda k1v1: MAP(*k1v1), record_reader)), INPUTFORMAT())\n",
        "  if COMBINER != None:\n",
        "    map_partitions = map(lambda map_partition: flatten(map(lambda k2v2: COMBINER(*k2v2), groupbykey(map_partition))), map_partitions)\n",
        "  reduce_partitions = groupbykey_distributed(map_partitions, PARTITIONER) # shuffle\n",
        "  reduce_outputs = map(lambda reduce_partition: (reduce_partition[0], flatten(map(lambda reduce_input_group: REDUCE(*reduce_input_group), reduce_partition[1]))), reduce_partitions)\n",
        "\n",
        "  print(\"{} key-value pairs were sent over a network.\".format(sum([len(vs) for (k,vs) in flatten([partition for (partition_id, partition) in reduce_partitions])])))\n",
        "  return reduce_outputs"
      ],
      "execution_count": null,
      "outputs": []
    },
    {
      "cell_type": "markdown",
      "metadata": {
        "id": "kxirlf3XqZxY"
      },
      "source": [
        "## Спецификация MapReduce Distributed\n",
        "\n",
        "\n",
        "```\n",
        "f (k1, v1) -> (k2,v2)*\n",
        "g (k2, v2*) -> (k3,v3)*\n",
        "\n",
        "e1 (k1, v1)\n",
        "e2 (k2, v2)\n",
        "partition1 (k2, v2)*\n",
        "partition2 (k2, v2*)*\n",
        "\n",
        "flatmap (e1->e2*, e1*) -> partition1*\n",
        "groupby (partition1*) -> partition2*\n",
        "\n",
        "mapreduce ((k1,v1)*) -> (k3,v3)*\n",
        "mapreduce .flatmap(f).groupby(k2).flatmap(g)\n",
        "```\n",
        "\n"
      ]
    },
    {
      "cell_type": "markdown",
      "metadata": {
        "id": "CWYw_CpbbY3C"
      },
      "source": [
        "## WordCount"
      ]
    },
    {
      "cell_type": "code",
      "metadata": {
        "id": "uR_zfGFkMZlp",
        "colab": {
          "base_uri": "https://localhost:8080/",
          "height": 68
        },
        "outputId": "c8d46167-473d-43b9-881a-2396991b3731"
      },
      "source": [
        "from typing import Iterator\n",
        "import numpy as np\n",
        "\n",
        "d1 = \"\"\"\n",
        "it is what it is\n",
        "it is what it is\n",
        "it is what it is\"\"\"\n",
        "d2 = \"\"\"\n",
        "what is it\n",
        "what is it\"\"\"\n",
        "d3 = \"\"\"\n",
        "it is a banana\"\"\"\n",
        "documents = [d1, d2, d3, d1, d2, d3]\n",
        "\n",
        "maps = 3\n",
        "reducers = 2\n",
        "\n",
        "def INPUTFORMAT():\n",
        "  global maps\n",
        "\n",
        "  def RECORDREADER(split):\n",
        "    for (docid, document) in enumerate(split):\n",
        "      for (lineid, line) in enumerate(document.split('\\n')):\n",
        "        yield (\"{}:{}\".format(docid,lineid), line)\n",
        "\n",
        "  split_size =  int(np.ceil(len(documents)/maps))\n",
        "  for i in range(0, len(documents), split_size):\n",
        "    yield RECORDREADER(documents[i:i+split_size])\n",
        "\n",
        "def MAP(docId:str, line:str):\n",
        "  for word in line.split(\" \"):\n",
        "    yield (word, 1)\n",
        "\n",
        "def REDUCE(word:str, counts:Iterator[int]):\n",
        "  sum = 0\n",
        "  for c in counts:\n",
        "    sum += c\n",
        "  yield (word, sum)\n",
        "\n",
        "# try to set COMBINER=REDUCER and look at the number of values sent over the network\n",
        "partitioned_output = MapReduceDistributed(INPUTFORMAT, MAP, REDUCE, COMBINER=None)\n",
        "partitioned_output = [(partition_id, list(partition)) for (partition_id, partition) in partitioned_output]\n",
        "partitioned_output"
      ],
      "execution_count": null,
      "outputs": [
        {
          "output_type": "stream",
          "text": [
            "56 key-value pairs were sent over a network.\n"
          ],
          "name": "stdout"
        },
        {
          "output_type": "execute_result",
          "data": {
            "text/plain": [
              "[(0, [('', 6), ('a', 2), ('banana', 2), ('is', 18), ('it', 18), ('what', 10)]),\n",
              " (1, [])]"
            ]
          },
          "metadata": {
            "tags": []
          },
          "execution_count": 33
        }
      ]
    },
    {
      "cell_type": "markdown",
      "metadata": {
        "id": "gCJGx8IQ87xS"
      },
      "source": [
        "## TeraSort"
      ]
    },
    {
      "cell_type": "code",
      "metadata": {
        "id": "P2v8v1v_8_YR",
        "colab": {
          "base_uri": "https://localhost:8080/",
          "height": 578
        },
        "outputId": "e0987c25-9757-46cb-8e55-d5d2adfbee2b"
      },
      "source": [
        "import numpy as np\n",
        "\n",
        "input_values = np.random.rand(30)\n",
        "maps = 3\n",
        "reducers = 2\n",
        "min_value = 0.0\n",
        "max_value = 1.0\n",
        "\n",
        "def INPUTFORMAT():\n",
        "  global maps\n",
        "\n",
        "  def RECORDREADER(split):\n",
        "    for value in split:\n",
        "        yield (value, None)\n",
        "\n",
        "  split_size =  int(np.ceil(len(input_values)/maps))\n",
        "  for i in range(0, len(input_values), split_size):\n",
        "    yield RECORDREADER(input_values[i:i+split_size])\n",
        "\n",
        "def MAP(value:int, _):\n",
        "  yield (value, None)\n",
        "\n",
        "def PARTITIONER(key):\n",
        "  global reducers\n",
        "  global max_value\n",
        "  global min_value\n",
        "  bucket_size = (max_value-min_value)/reducers\n",
        "  bucket_id = 0\n",
        "  while((key>(bucket_id+1)*bucket_size) and ((bucket_id+1)*bucket_size<max_value)):\n",
        "    bucket_id += 1\n",
        "  return bucket_id\n",
        "\n",
        "def REDUCE(value:int, _):\n",
        "  yield (None,value)\n",
        "\n",
        "partitioned_output = MapReduceDistributed(INPUTFORMAT, MAP, REDUCE, COMBINER=None, PARTITIONER=PARTITIONER)\n",
        "partitioned_output = [(partition_id, list(partition)) for (partition_id, partition) in partitioned_output]\n",
        "partitioned_output"
      ],
      "execution_count": null,
      "outputs": [
        {
          "output_type": "stream",
          "text": [
            "30 key-value pairs were sent over a network.\n"
          ],
          "name": "stdout"
        },
        {
          "output_type": "execute_result",
          "data": {
            "text/plain": [
              "[(0,\n",
              "  [(None, 0.0059671639991895065),\n",
              "   (None, 0.07724245496172),\n",
              "   (None, 0.08440804135613444),\n",
              "   (None, 0.13575647907181598),\n",
              "   (None, 0.14404826813474803),\n",
              "   (None, 0.21204275967955666),\n",
              "   (None, 0.21869633101751806),\n",
              "   (None, 0.25055756276216923),\n",
              "   (None, 0.28642389538931257),\n",
              "   (None, 0.3834487515438496),\n",
              "   (None, 0.3913614390023946),\n",
              "   (None, 0.4041378102237341),\n",
              "   (None, 0.41854626274930695),\n",
              "   (None, 0.4704310153549396),\n",
              "   (None, 0.4776995227348928),\n",
              "   (None, 0.48992216726013693)]),\n",
              " (1,\n",
              "  [(None, 0.5005353544023048),\n",
              "   (None, 0.5135664686748047),\n",
              "   (None, 0.53391984417089),\n",
              "   (None, 0.5587932025401512),\n",
              "   (None, 0.5673804905854288),\n",
              "   (None, 0.6926646597910275),\n",
              "   (None, 0.7237444251339501),\n",
              "   (None, 0.7557883138083207),\n",
              "   (None, 0.785709769245918),\n",
              "   (None, 0.7937098630029404),\n",
              "   (None, 0.7942646850708935),\n",
              "   (None, 0.9160468126494941),\n",
              "   (None, 0.9618068292060864),\n",
              "   (None, 0.9820764489731459)])]"
            ]
          },
          "metadata": {
            "tags": []
          },
          "execution_count": 34
        }
      ]
    },
    {
      "cell_type": "code",
      "metadata": {
        "id": "MQhoJaVZI93G"
      },
      "source": [],
      "execution_count": null,
      "outputs": []
    },
    {
      "cell_type": "markdown",
      "metadata": {
        "id": "Iy65YJTH99iT"
      },
      "source": [
        "# Упражнения\n",
        "Упражнения взяты из Rajaraman A., Ullman J. D. Mining of massive datasets. – Cambridge University Press, 2011.\n",
        "\n",
        "\n",
        "Для выполнения заданий переопределите функции RECORDREADER, MAP, REDUCE. Для модели распределённой системы может потребоваться переопределение функций PARTITION и COMBINER."
      ]
    },
    {
      "cell_type": "markdown",
      "metadata": {
        "id": "cfvAeZm3S8S8"
      },
      "source": [
        "### Максимальное значение ряда\n",
        "\n",
        "Разработайте MapReduce алгоритм, который находит максимальное число входного списка чисел."
      ]
    },
    {
      "cell_type": "code",
      "metadata": {
        "id": "3GRA1JR-Tkbg",
        "colab": {
          "base_uri": "https://localhost:8080/"
        },
        "outputId": "ff86738c-c1b9-492d-de4a-80c5eaee6324"
      },
      "source": [
        "import random\n",
        "from functools import reduce\n",
        "\n",
        "# Нахождение максимального значения в каждом элементе\n",
        "def MAP(num_list):\n",
        "    return max(num_list)\n",
        "\n",
        "# Нахождение максимального значения среди всех элементов\n",
        "def REDUCE(max1, max2):\n",
        "    return max(max1, max2)\n",
        "\n",
        "# Генерация случайных чисел\n",
        "def RECORDREADER(min, max, count):\n",
        "    return [random.randint(min, max) for _ in range(count)]\n",
        "\n",
        "random_num = RECORDREADER(-100, 100, 15)\n",
        "print(random_num)\n",
        "mapped_values = map(MAP, [random_num])\n",
        "res = reduce(REDUCE, mapped_values)\n",
        "print(\"Max value:\", res)"
      ],
      "execution_count": 4,
      "outputs": [
        {
          "output_type": "stream",
          "name": "stdout",
          "text": [
            "[-59, -74, 4, 40, 34, -16, 37, 96, -85, 66, -25, -22, -87, -100, 59]\n",
            "Max value: 96\n"
          ]
        }
      ]
    },
    {
      "cell_type": "markdown",
      "metadata": {
        "id": "k86bXnqZTk-U"
      },
      "source": [
        "### Арифметическое среднее\n",
        "\n",
        "Разработайте MapReduce алгоритм, который находит арифметическое среднее.\n",
        "\n",
        "$$\\overline{X} = \\frac{1}{n}\\sum_{i=0}^{n} x_i$$\n"
      ]
    },
    {
      "cell_type": "code",
      "metadata": {
        "id": "MPoY5pkfUNZf",
        "colab": {
          "base_uri": "https://localhost:8080/"
        },
        "outputId": "67fb8393-b9af-4d62-f1af-2ecbde74e7a6"
      },
      "source": [
        "import random\n",
        "from typing import Iterator, Tuple\n",
        "\n",
        "# Создание пары (1, number)\n",
        "def MAP(number):\n",
        "    return (1, number)\n",
        "\n",
        "# Вычисление среднего значения из итератора NamedTuple\n",
        "def REDUCE(key, numbers: Iterator[Tuple[int, int]]):\n",
        "    sum = 0\n",
        "    count = 0\n",
        "    for _, n in numbers:  # Пропускаем ключи\n",
        "        sum += n\n",
        "        count += 1\n",
        "    yield sum / count\n",
        "\n",
        "# Генерация случайных чисел\n",
        "def RECORDREADER(min, max, count):\n",
        "    return [random.randint(min, max) for _ in range(count)]\n",
        "\n",
        "record = RECORDREADER(-100, 100, 100)\n",
        "map_output = list(map(MAP, record))\n",
        "print(\"MAP output:\", map_output)\n",
        "reduce_output = list(REDUCE(1, map_output))  # Группируем по фиктивному ключу 1\n",
        "print(\"Reduce output:\", reduce_output[0])"
      ],
      "execution_count": 5,
      "outputs": [
        {
          "output_type": "stream",
          "name": "stdout",
          "text": [
            "MAP output: [(1, 62), (1, 10), (1, -17), (1, -56), (1, 72), (1, 38), (1, -40), (1, -22), (1, -75), (1, 2), (1, 83), (1, 80), (1, 24), (1, -11), (1, -7), (1, 69), (1, -25), (1, -88), (1, 82), (1, -58), (1, -23), (1, 82), (1, 37), (1, 59), (1, 6), (1, 46), (1, 94), (1, 24), (1, -18), (1, 72), (1, -56), (1, -81), (1, -45), (1, 85), (1, -11), (1, -35), (1, -90), (1, -90), (1, -41), (1, -89), (1, -1), (1, -7), (1, -20), (1, 71), (1, -17), (1, -82), (1, 3), (1, 50), (1, -4), (1, 80), (1, 84), (1, -28), (1, -4), (1, -46), (1, -64), (1, 2), (1, -87), (1, -31), (1, 73), (1, 18), (1, -58), (1, -78), (1, -66), (1, 50), (1, -99), (1, -75), (1, -23), (1, 59), (1, 11), (1, 20), (1, 56), (1, -41), (1, 31), (1, -21), (1, 10), (1, 95), (1, -82), (1, -18), (1, 61), (1, 61), (1, -75), (1, 50), (1, 52), (1, -75), (1, -60), (1, 7), (1, 41), (1, 32), (1, 68), (1, -90), (1, -3), (1, -7), (1, 71), (1, -100), (1, 10), (1, -33), (1, -92), (1, 7), (1, -36), (1, -26)]\n",
            "Reduce output: -3.27\n"
          ]
        }
      ]
    },
    {
      "cell_type": "markdown",
      "metadata": {
        "id": "xanzszhsIlLe"
      },
      "source": [
        "### GroupByKey на основе сортировки\n",
        "\n",
        "Реализуйте groupByKey на основе сортировки, проверьте его работу на примерах"
      ]
    },
    {
      "cell_type": "code",
      "metadata": {
        "id": "hQPn3USsIkEC",
        "colab": {
          "base_uri": "https://localhost:8080/"
        },
        "outputId": "4fa5e394-b40d-462f-96f8-024186549bc1"
      },
      "source": [
        "import random\n",
        "from typing import Iterator, NamedTuple, List, Tuple\n",
        "\n",
        "# Создание пары (1, number)\n",
        "def MAP(number):\n",
        "    return (1, number)\n",
        "\n",
        "# Вычисление среднего значения из итератора NamedTuple\n",
        "def REDUCE(key, numbers: Iterator[int]):\n",
        "    sum = 0\n",
        "    count = 0\n",
        "    for n in numbers:\n",
        "        sum += n\n",
        "        count += 1\n",
        "    return sum / count\n",
        "\n",
        "# Генерация случайных чисел\n",
        "def RECORDREADER(min, max, count):\n",
        "    return [random.randint(min, max) for _ in range(count)]\n",
        "\n",
        "# Группировка значений по ключу с использованием сортировки\n",
        "def group_by_key(iterable: List[Tuple[int, int]]):\n",
        "    grouped_data = {}\n",
        "    for key, value in sorted(iterable, key=lambda x: x[0]):\n",
        "        grouped_data.setdefault(key, []).append(value)\n",
        "    return list(grouped_data.items())\n",
        "\n",
        "random_num = RECORDREADER(-100, 100, 100)\n",
        "map_output = list(map(lambda x: MAP(x), random_num))\n",
        "print(\"MAP output:\", map_output)\n",
        "shuffle_output = group_by_key(map_output)\n",
        "print(\"Shuffle output:\", shuffle_output)\n",
        "reduce_output = list(map(lambda x: REDUCE(x[0], iter(x[1])), shuffle_output))\n",
        "print(\"Reduce output:\", reduce_output)"
      ],
      "execution_count": 20,
      "outputs": [
        {
          "output_type": "stream",
          "name": "stdout",
          "text": [
            "MAP output: [(1, 24), (1, 28), (1, -6), (1, -95), (1, -26), (1, -58), (1, 60), (1, 42), (1, 9), (1, -24), (1, 44), (1, -83), (1, 6), (1, 37), (1, 97), (1, 27), (1, 20), (1, -52), (1, -3), (1, 85), (1, -89), (1, 15), (1, 42), (1, -90), (1, 5), (1, -46), (1, 62), (1, -28), (1, -79), (1, -32), (1, 46), (1, 99), (1, 25), (1, -47), (1, -25), (1, 13), (1, 79), (1, -18), (1, 73), (1, -49), (1, -69), (1, -50), (1, 4), (1, -57), (1, 86), (1, 64), (1, 75), (1, -35), (1, 14), (1, -36), (1, 97), (1, -63), (1, -95), (1, 29), (1, 57), (1, 6), (1, -86), (1, -17), (1, 69), (1, 99), (1, 61), (1, 45), (1, -89), (1, 16), (1, -30), (1, 43), (1, -100), (1, 17), (1, -72), (1, 71), (1, -14), (1, -65), (1, -47), (1, -69), (1, 78), (1, -95), (1, 48), (1, -87), (1, -89), (1, -86), (1, -35), (1, -11), (1, 34), (1, 69), (1, 55), (1, -26), (1, -70), (1, -100), (1, -55), (1, 83), (1, -63), (1, -42), (1, 34), (1, -59), (1, 63), (1, -66), (1, 95), (1, -60), (1, 58), (1, 16)]\n",
            "Shuffle output: [(1, [24, 28, -6, -95, -26, -58, 60, 42, 9, -24, 44, -83, 6, 37, 97, 27, 20, -52, -3, 85, -89, 15, 42, -90, 5, -46, 62, -28, -79, -32, 46, 99, 25, -47, -25, 13, 79, -18, 73, -49, -69, -50, 4, -57, 86, 64, 75, -35, 14, -36, 97, -63, -95, 29, 57, 6, -86, -17, 69, 99, 61, 45, -89, 16, -30, 43, -100, 17, -72, 71, -14, -65, -47, -69, 78, -95, 48, -87, -89, -86, -35, -11, 34, 69, 55, -26, -70, -100, -55, 83, -63, -42, 34, -59, 63, -66, 95, -60, 58, 16])]\n",
            "Reduce output: [-3.64]\n"
          ]
        }
      ]
    },
    {
      "cell_type": "markdown",
      "metadata": {
        "id": "5SgEjCZyGnu6"
      },
      "source": [
        "### Drop duplicates (set construction, unique elements, distinct)\n",
        "\n",
        "Реализуйте распределённую операцию исключения дубликатов"
      ]
    },
    {
      "cell_type": "code",
      "metadata": {
        "id": "okjbyApjGhMt",
        "colab": {
          "base_uri": "https://localhost:8080/"
        },
        "outputId": "7836c195-c33d-4aaa-8e2b-3e7d83f6708e"
      },
      "source": [
        "import numpy as np\n",
        "from typing import Iterator\n",
        "\n",
        "# \"Выравнивание\" вложенной структуры данных\n",
        "def flatten(nested_iterable):\n",
        "    for iterable in nested_iterable:\n",
        "        for element in iterable:\n",
        "            yield element\n",
        "\n",
        "# Группировка значений по ключу с использованием сортировки\n",
        "def group_by_key(iterable):\n",
        "    grouped_data = {}\n",
        "    for key, value in sorted(iterable, key=lambda x: x[0]):\n",
        "        grouped_data.setdefault(key, []).append(value)\n",
        "    return list(grouped_data.items())\n",
        "\n",
        "# Распределенная группировка данных по ключу\n",
        "def group_by_key_distributed(map_partitions, partitioner):\n",
        "    global reducers\n",
        "    partitions = [dict() for _ in range(reducers)]\n",
        "    for map_partition in map_partitions:\n",
        "        for key, value in map_partition:\n",
        "            p = partitions[partitioner(key)]\n",
        "            p.setdefault(key, []).append(value)\n",
        "    return [(partition_id, sorted(partition.items(), key=lambda x: x[0])) for (partition_id, partition) in enumerate(partitions)]\n",
        "\n",
        "# Определение разделителя (партиционера)\n",
        "def partitioner(obj):\n",
        "    global reducers\n",
        "    return hash(obj) % reducers\n",
        "\n",
        "# Функция для выполнения операций MapReduce\n",
        "def map_reduce_distributed(input_format, map_func, reduce_func, partitioner=partitioner, combiner=None):\n",
        "    # Применяем функцию MAP к каждой записи во входных данных, затем \"выравниваем\" результаты\n",
        "    map_partitions = map(lambda record_reader: flatten(map(lambda k1v1: map_func(*k1v1), record_reader)), input_format())\n",
        "\n",
        "    # Если задан комбайнер (COMBINER), применяем его к данным после группировки по ключу\n",
        "    if combiner is not None:\n",
        "        map_partitions = map(lambda map_partition: flatten(map(lambda k2v2: combiner(*k2v2), group_by_key(map_partition))), map_partitions)\n",
        "\n",
        "    # Выполняем распределенную группировку данных по ключу с использованием заданного партиционера\n",
        "    reduce_partitions = group_by_key_distributed(map_partitions, partitioner)\n",
        "\n",
        "    # Применяем функцию REDUCE к каждой группе данных после группировки и \"выравниваем\" результаты\n",
        "    reduce_outputs = map(lambda reduce_partition: (reduce_partition[0], flatten(map(lambda reduce_input_group: reduce_func(*reduce_input_group),\n",
        "                                                                                    reduce_partition[1]))), reduce_partitions)\n",
        "\n",
        "    # Вычисляем общее количество отправленных по сети пар ключ-значение\n",
        "    total_values_sent = sum([len(vs) for (k, vs) in flatten([partition for (partition_id, partition) in reduce_partitions])])\n",
        "\n",
        "    # Выводим информацию о количестве отправленных данных и возвращаем результат операций MapReduce\n",
        "    print(f\"{total_values_sent} key-value pairs were sent over a network.\")\n",
        "    return reduce_outputs\n",
        "\n",
        "# Задание текстовых документов\n",
        "doc1 = \"\"\"\n",
        "the sun is shining brightly\n",
        "the sun is shining brightly\n",
        "the sun is shining brightly\"\"\"\n",
        "doc2 = \"\"\"\n",
        "what a beautiful day\n",
        "what a beautiful day\"\"\"\n",
        "doc3 = \"\"\"\n",
        "the dog is very happy\"\"\"\n",
        "text_documents = [doc1, doc2, doc3, doc1, doc2, doc3]\n",
        "\n",
        "# Задание количества задач Map и Reduce\n",
        "num_mappers = 3\n",
        "num_reducers = 2\n",
        "\n",
        "def INPUTFORMAT():\n",
        "    # Форматирование входных данных для MapReduce\n",
        "    global maps\n",
        "\n",
        "    # Функция RECORDREADER принимает на вход раздел (split) данных и генерирует ключ-значение для каждой строки документа\n",
        "    def RECORDREADER(split):\n",
        "      # Перебираем каждый документ в разделе, присваивая ему уникальный идентификатор docid\n",
        "        for (docid, document) in enumerate(split):\n",
        "          # Для каждой строки в документе создаем уникальный идентификатор lineid и разбиваем строку по символу новой строки '\\n'\n",
        "            for (lineid, line) in enumerate(document.split('\\n')):\n",
        "               # Генерируем ключ в формате \"docid:lineid\" и значение - строку из документа\n",
        "                yield (\"{}:{}\".format(docid, lineid), line)\n",
        "    # Вычисляем размер раздела данных split_size как округленное вверх\n",
        "    #значение от деления общего числа документов на количество задач MapReduce\n",
        "    split_size = int(np.ceil(len(text_documents) / maps))\n",
        "    # Цикл по документам с шагом split_size\n",
        "    for i in range(0, len(text_documents), split_size):\n",
        "      # Генерируем данные для каждого раздела данных путем вызова функции RECORDREADER с подмножеством документов\n",
        "        yield RECORDREADER(text_documents[i:i + split_size])\n",
        "\n",
        "def MAP(docId: str, line: str):\n",
        "    # Функция Map для преобразования данных\n",
        "    for word in line.split(\" \"):\n",
        "        yield (word, word)\n",
        "\n",
        "def REDUCE(key: str, value: Iterator[str]):\n",
        "    # Функция Reduce для агрегации данных\n",
        "    yield key\n",
        "\n",
        "# Выполнение MapReduce операций с заданными функциями MAP и REDUCE\n",
        "partitioned_output = map_reduce_distributed(INPUTFORMAT, MAP, REDUCE, combiner=None)\n",
        "partitioned_output = [(partition_id, list(partition)) for (partition_id, partition) in partitioned_output]\n",
        "print(partitioned_output)"
      ],
      "execution_count": 25,
      "outputs": [
        {
          "output_type": "stream",
          "name": "stdout",
          "text": [
            "62 key-value pairs were sent over a network.\n"
          ]
        },
        {
          "output_type": "execute_result",
          "data": {
            "text/plain": [
              "[(0,\n",
              "  ['',\n",
              "   'a',\n",
              "   'beautiful',\n",
              "   'brightly',\n",
              "   'day',\n",
              "   'dog',\n",
              "   'happy',\n",
              "   'is',\n",
              "   'shining',\n",
              "   'very',\n",
              "   'what']),\n",
              " (1, ['sun', 'the'])]"
            ]
          },
          "metadata": {},
          "execution_count": 25
        }
      ]
    },
    {
      "cell_type": "markdown",
      "metadata": {
        "id": "e7sRGoTXuJze"
      },
      "source": [
        "#Операторы реляционной алгебры\n",
        "### Selection (Выборка)\n",
        "\n",
        "**The Map Function**: Для  каждого кортежа $t \\in R$ вычисляется истинность предиката $C$. В случае истины создаётся пара ключ-значение $(t, t)$. В паре ключ и значение одинаковы, равны $t$.\n",
        "\n",
        "**The Reduce Function:** Роль функции Reduce выполняет функция идентичности, которая возвращает то же значение, что получила на вход.\n",
        "\n"
      ]
    },
    {
      "cell_type": "code",
      "metadata": {
        "id": "4nKIKe59uIfc",
        "colab": {
          "base_uri": "https://localhost:8080/"
        },
        "outputId": "b87e72a0-57c8-4a6b-ade3-b03bbeed6157"
      },
      "source": [
        "from collections import defaultdict\n",
        "import random\n",
        "\n",
        "# Функция для реализации MAP операции\n",
        "def MAP(el_list):\n",
        "    mapped_result = defaultdict(list)\n",
        "    for t in el_list:\n",
        "        if C(t):  # Предикат C - выбираем только кортежи, удовлетворяющие условию\n",
        "            mapped_result[t].append(t)\n",
        "    return mapped_result.items()\n",
        "\n",
        "# Функция для реализации REDUCE операции\n",
        "def REDUCE(mapped_items):\n",
        "    reduced_result = []\n",
        "    print(mapped_items)  # Выводим промежуточный результат\n",
        "    for values in mapped_items:\n",
        "        for value in values:\n",
        "            reduced_result.append(value)  # Функция идентичности: возвращаем то же значение, что получили на вход\n",
        "    return reduced_result\n",
        "\n",
        "# Предикат для фильтрации кортежей с четным первым элементом\n",
        "def C(t):\n",
        "    return t[0] % 2 == 0\n",
        "\n",
        "# Генерация случайных записей (кортежей формата (x, y, z))\n",
        "def RECORDREADER(count):\n",
        "    return [(random.randint(0, 100), random.randint(0, 100), random.randint(0, 100)) for _ in range(count)]\n",
        "\n",
        "# Создание набора записей\n",
        "record = RECORDREADER(5)\n",
        "print(record)\n",
        "\n",
        "# Разбиение записей на равные части\n",
        "part_count = 5\n",
        "record_partitioned = [record[d:d + part_count] for d in range(0, len(record), part_count)]\n",
        "print(record_partitioned)\n",
        "\n",
        "# Применение операции MAP и последующей REDUCE к разделенным записям\n",
        "print(REDUCE(list(map(lambda x: MAP(x), record_partitioned))))"
      ],
      "execution_count": 26,
      "outputs": [
        {
          "output_type": "stream",
          "name": "stdout",
          "text": [
            "[(47, 54, 55), (41, 23, 87), (2, 8, 79), (84, 13, 23), (88, 70, 44)]\n",
            "[[(47, 54, 55), (41, 23, 87), (2, 8, 79), (84, 13, 23), (88, 70, 44)]]\n",
            "[dict_items([((2, 8, 79), [(2, 8, 79)]), ((84, 13, 23), [(84, 13, 23)]), ((88, 70, 44), [(88, 70, 44)])])]\n",
            "[((2, 8, 79), [(2, 8, 79)]), ((84, 13, 23), [(84, 13, 23)]), ((88, 70, 44), [(88, 70, 44)])]\n"
          ]
        }
      ]
    },
    {
      "cell_type": "markdown",
      "metadata": {
        "id": "w27Ca-_Ku85V"
      },
      "source": [
        "### Projection (Проекция)\n",
        "\n",
        "Проекция на множество атрибутов $S$.\n",
        "\n",
        "**The Map Function:** Для каждого кортежа $t \\in R$ создайте кортеж $t′$, исключая  из $t$ те значения, атрибуты которых не принадлежат  $S$. Верните пару $(t′, t′)$.\n",
        "\n",
        "**The Reduce Function:** Для каждого ключа $t′$, созданного любой Map задачей, вы получаете одну или несколько пар $(t′, t′)$. Reduce функция преобразует $(t′, [t′, t′, . . . , t′])$ в $(t′, t′)$, так, что для ключа $t′$ возвращается одна пара  $(t′, t′)$."
      ]
    },
    {
      "cell_type": "code",
      "metadata": {
        "id": "BEvuY4GqvhS6",
        "colab": {
          "base_uri": "https://localhost:8080/"
        },
        "outputId": "fa475b9a-630c-46f2-8b68-3ff54cf2fe65"
      },
      "source": [
        "S = set([25, 90, 69])  # Создаем множество S\n",
        "\n",
        "def MAP(t):\n",
        "    res_list = []\n",
        "    for el in t:  # Перебираем элементы входного кортежа t\n",
        "        if el in S:  # Проверяем, есть ли элемент el в множестве S\n",
        "            res_list.append(el)  # Добавляем элемент el в результирующий список\n",
        "    res = tuple(res_list)  # Преобразуем список в кортеж\n",
        "    return (res, res)  # Возвращаем кортеж из результирующего списка дважды\n",
        "\n",
        "def REDUCE(key, values: Iterator[NamedTuple]):\n",
        "    return (key, key)  # Возвращает кортеж с ключом и значением равными ключу\n",
        "\n",
        "def RECORDREADER(count):\n",
        "    return [(random.randint(0, 100), random.randint(0, 100), random.randint(0, 100)) for i in range(count)]  # Генерирует список кортежей случайных чисел\n",
        "\n",
        "def group_by_key(iterable):\n",
        "    t = {}\n",
        "    for (k2, v2) in iterable:  # Перебираем элементы входного итерируемого объекта\n",
        "        t[k2] = t.get(k2, []) + [v2]  # Группируем значения по ключу k2\n",
        "    return t.items()  # Возвращаем список кортежей (ключ, список значений)\n",
        "\n",
        "record = RECORDREADER(5)  # Генерируем список кортежей случайных чисел\n",
        "print(record)\n",
        "\n",
        "map_output = list(map(lambda x: MAP(x), RECORDREADER(100)))  # Применяем функцию MAP ко всем элементам RECORDREADER(100)\n",
        "print(\"MAP output:\", map_output)\n",
        "\n",
        "shuffle_output = group_by_key(map_output)  # Группируем значения по ключу\n",
        "shuffle_output = list(shuffle_output)  # Преобразуем результат в список\n",
        "\n",
        "print(\"Shuffle output:\", shuffle_output)\n",
        "\n",
        "reduce_output = list(map(lambda x: REDUCE(*x)[0], shuffle_output))  # Применяем функцию REDUCE к результату группировки\n",
        "print(\"Reduce output:\", reduce_output)"
      ],
      "execution_count": 27,
      "outputs": [
        {
          "output_type": "stream",
          "name": "stdout",
          "text": [
            "[(55, 76, 54), (80, 70, 77), (20, 84, 3), (46, 17, 59), (32, 0, 77)]\n",
            "MAP output: [((25,), (25,)), ((), ()), ((), ()), ((), ()), ((), ()), ((), ()), ((), ()), ((), ()), ((), ()), ((), ()), ((), ()), ((), ()), ((), ()), ((), ()), ((), ()), ((25,), (25,)), ((), ()), ((), ()), ((), ()), ((), ()), ((), ()), ((), ()), ((), ()), ((), ()), ((), ()), ((), ()), ((), ()), ((), ()), ((), ()), ((), ()), ((), ()), ((25,), (25,)), ((), ()), ((), ()), ((), ()), ((), ()), ((25,), (25,)), ((25,), (25,)), ((), ()), ((), ()), ((), ()), ((), ()), ((), ()), ((), ()), ((), ()), ((), ()), ((), ()), ((), ()), ((), ()), ((), ()), ((), ()), ((), ()), ((), ()), ((), ()), ((), ()), ((), ()), ((), ()), ((), ()), ((), ()), ((), ()), ((), ()), ((), ()), ((), ()), ((), ()), ((), ()), ((), ()), ((), ()), ((69,), (69,)), ((), ()), ((), ()), ((), ()), ((), ()), ((), ()), ((), ()), ((), ()), ((), ()), ((), ()), ((), ()), ((), ()), ((), ()), ((), ()), ((), ()), ((), ()), ((), ()), ((), ()), ((), ()), ((), ()), ((), ()), ((), ()), ((), ()), ((), ()), ((), ()), ((), ()), ((), ()), ((), ()), ((), ()), ((), ()), ((), ()), ((90,), (90,)), ((), ())]\n",
            "Shuffle output: [((25,), [(25,), (25,), (25,), (25,), (25,)]), ((), [(), (), (), (), (), (), (), (), (), (), (), (), (), (), (), (), (), (), (), (), (), (), (), (), (), (), (), (), (), (), (), (), (), (), (), (), (), (), (), (), (), (), (), (), (), (), (), (), (), (), (), (), (), (), (), (), (), (), (), (), (), (), (), (), (), (), (), (), (), (), (), (), (), (), (), (), (), (), (), (), (), (), (), (), (), (), (), (), (), (), (), (), ()]), ((69,), [(69,)]), ((90,), [(90,)])]\n",
            "Reduce output: [(25,), (), (69,), (90,)]\n"
          ]
        }
      ]
    },
    {
      "cell_type": "markdown",
      "metadata": {
        "id": "7gau6lKXvn2R"
      },
      "source": [
        "### Union (Объединение)\n",
        "\n",
        "**The Map Function:** Превратите каждый входной кортеж $t$ в пару ключ-значение $(t, t)$.\n",
        "\n",
        "**The Reduce Function:** С каждым ключом $t$ будет ассоциировано одно или два значений. В обоих случаях создайте $(t, t)$ в качестве выходного значения."
      ]
    },
    {
      "cell_type": "code",
      "metadata": {
        "id": "Sns7a5agv3nw",
        "colab": {
          "base_uri": "https://localhost:8080/"
        },
        "outputId": "8434f6dc-4fa6-4a3c-ce35-c437c088ef42"
      },
      "source": [
        "def MAP(t):\n",
        "    return (t, t)  # Функция MAP возвращает кортеж из входного элемента и этого же элемента\n",
        "\n",
        "def REDUCE(key, values: Iterator[NamedTuple]):\n",
        "    return (key, key)  # Функция REDUCE возвращает кортеж с ключом и значением равными ключу\n",
        "\n",
        "def RECORDREADER(count):\n",
        "    return [(random.randint(0, 100), random.randint(0, 100), random.randint(0, 100)) for i in range(count)]  # Генерирует список кортежей случайных чисел\n",
        "\n",
        "def group_by_key(iterable):\n",
        "    t = {}\n",
        "    for (k2, v2) in iterable:  # Перебираем элементы входного итерируемого объекта\n",
        "        t[k2] = t.get(k2, []) + [v2]  # Группируем значения по ключу k2\n",
        "    return t.items()  # Возвращаем список кортежей (ключ, список значений)\n",
        "\n",
        "record = RECORDREADER(5)  # Генерируем список кортежей случайных чисел\n",
        "print(record)\n",
        "\n",
        "map_output = list(map(lambda x: MAP(x), RECORDREADER(100)))  # Применяем функцию MAP ко всем элементам RECORDREADER(100)\n",
        "print(\"MAP output:\", map_output)\n",
        "\n",
        "shuffle_output = group_by_key(map_output)  # Группируем значения по ключу\n",
        "shuffle_output = list(shuffle_output)  # Преобразуем результат в список\n",
        "print(\"Shuffle output:\", shuffle_output)\n",
        "\n",
        "reduce_output = list(map(lambda x: REDUCE(*x)[0], shuffle_output))  # Применяем функцию REDUCE к результату группировки\n",
        "print(\"Reduce output:\", reduce_output)"
      ],
      "execution_count": 28,
      "outputs": [
        {
          "output_type": "stream",
          "name": "stdout",
          "text": [
            "[(25, 95, 80), (21, 1, 23), (86, 61, 98), (57, 23, 3), (25, 32, 76)]\n",
            "MAP output: [((7, 22, 80), (7, 22, 80)), ((54, 26, 51), (54, 26, 51)), ((54, 84, 100), (54, 84, 100)), ((44, 96, 65), (44, 96, 65)), ((28, 49, 57), (28, 49, 57)), ((18, 4, 47), (18, 4, 47)), ((84, 64, 31), (84, 64, 31)), ((13, 73, 36), (13, 73, 36)), ((6, 74, 38), (6, 74, 38)), ((9, 68, 22), (9, 68, 22)), ((27, 95, 43), (27, 95, 43)), ((60, 81, 8), (60, 81, 8)), ((64, 49, 22), (64, 49, 22)), ((32, 23, 96), (32, 23, 96)), ((5, 58, 65), (5, 58, 65)), ((65, 27, 41), (65, 27, 41)), ((93, 55, 26), (93, 55, 26)), ((62, 56, 100), (62, 56, 100)), ((87, 99, 0), (87, 99, 0)), ((30, 49, 28), (30, 49, 28)), ((59, 43, 74), (59, 43, 74)), ((71, 51, 79), (71, 51, 79)), ((59, 60, 65), (59, 60, 65)), ((85, 88, 84), (85, 88, 84)), ((39, 14, 100), (39, 14, 100)), ((40, 81, 26), (40, 81, 26)), ((32, 81, 89), (32, 81, 89)), ((31, 63, 31), (31, 63, 31)), ((79, 72, 13), (79, 72, 13)), ((2, 76, 92), (2, 76, 92)), ((90, 61, 55), (90, 61, 55)), ((85, 38, 24), (85, 38, 24)), ((74, 1, 12), (74, 1, 12)), ((15, 52, 39), (15, 52, 39)), ((56, 93, 81), (56, 93, 81)), ((71, 62, 17), (71, 62, 17)), ((30, 1, 63), (30, 1, 63)), ((71, 47, 6), (71, 47, 6)), ((95, 64, 62), (95, 64, 62)), ((0, 59, 5), (0, 59, 5)), ((56, 71, 7), (56, 71, 7)), ((41, 63, 16), (41, 63, 16)), ((58, 86, 59), (58, 86, 59)), ((47, 14, 67), (47, 14, 67)), ((14, 5, 6), (14, 5, 6)), ((100, 68, 77), (100, 68, 77)), ((91, 70, 18), (91, 70, 18)), ((58, 76, 89), (58, 76, 89)), ((93, 74, 97), (93, 74, 97)), ((43, 49, 12), (43, 49, 12)), ((96, 19, 94), (96, 19, 94)), ((90, 71, 9), (90, 71, 9)), ((45, 67, 100), (45, 67, 100)), ((58, 92, 75), (58, 92, 75)), ((55, 53, 70), (55, 53, 70)), ((92, 56, 86), (92, 56, 86)), ((13, 59, 96), (13, 59, 96)), ((74, 42, 100), (74, 42, 100)), ((38, 62, 22), (38, 62, 22)), ((52, 1, 75), (52, 1, 75)), ((28, 11, 9), (28, 11, 9)), ((59, 42, 25), (59, 42, 25)), ((65, 27, 28), (65, 27, 28)), ((46, 43, 68), (46, 43, 68)), ((33, 26, 90), (33, 26, 90)), ((15, 75, 50), (15, 75, 50)), ((18, 45, 58), (18, 45, 58)), ((16, 52, 16), (16, 52, 16)), ((17, 25, 75), (17, 25, 75)), ((92, 38, 95), (92, 38, 95)), ((79, 29, 75), (79, 29, 75)), ((70, 15, 17), (70, 15, 17)), ((33, 18, 35), (33, 18, 35)), ((53, 52, 64), (53, 52, 64)), ((56, 13, 17), (56, 13, 17)), ((69, 35, 33), (69, 35, 33)), ((17, 25, 71), (17, 25, 71)), ((11, 55, 85), (11, 55, 85)), ((13, 0, 28), (13, 0, 28)), ((22, 23, 42), (22, 23, 42)), ((54, 14, 64), (54, 14, 64)), ((42, 74, 96), (42, 74, 96)), ((56, 88, 85), (56, 88, 85)), ((10, 20, 68), (10, 20, 68)), ((89, 45, 60), (89, 45, 60)), ((11, 75, 49), (11, 75, 49)), ((91, 60, 11), (91, 60, 11)), ((5, 6, 46), (5, 6, 46)), ((52, 23, 52), (52, 23, 52)), ((77, 35, 44), (77, 35, 44)), ((13, 84, 84), (13, 84, 84)), ((42, 20, 97), (42, 20, 97)), ((47, 0, 55), (47, 0, 55)), ((14, 43, 83), (14, 43, 83)), ((17, 60, 80), (17, 60, 80)), ((27, 96, 7), (27, 96, 7)), ((77, 20, 75), (77, 20, 75)), ((9, 80, 16), (9, 80, 16)), ((45, 60, 46), (45, 60, 46)), ((47, 65, 61), (47, 65, 61))]\n",
            "Shuffle output: [((7, 22, 80), [(7, 22, 80)]), ((54, 26, 51), [(54, 26, 51)]), ((54, 84, 100), [(54, 84, 100)]), ((44, 96, 65), [(44, 96, 65)]), ((28, 49, 57), [(28, 49, 57)]), ((18, 4, 47), [(18, 4, 47)]), ((84, 64, 31), [(84, 64, 31)]), ((13, 73, 36), [(13, 73, 36)]), ((6, 74, 38), [(6, 74, 38)]), ((9, 68, 22), [(9, 68, 22)]), ((27, 95, 43), [(27, 95, 43)]), ((60, 81, 8), [(60, 81, 8)]), ((64, 49, 22), [(64, 49, 22)]), ((32, 23, 96), [(32, 23, 96)]), ((5, 58, 65), [(5, 58, 65)]), ((65, 27, 41), [(65, 27, 41)]), ((93, 55, 26), [(93, 55, 26)]), ((62, 56, 100), [(62, 56, 100)]), ((87, 99, 0), [(87, 99, 0)]), ((30, 49, 28), [(30, 49, 28)]), ((59, 43, 74), [(59, 43, 74)]), ((71, 51, 79), [(71, 51, 79)]), ((59, 60, 65), [(59, 60, 65)]), ((85, 88, 84), [(85, 88, 84)]), ((39, 14, 100), [(39, 14, 100)]), ((40, 81, 26), [(40, 81, 26)]), ((32, 81, 89), [(32, 81, 89)]), ((31, 63, 31), [(31, 63, 31)]), ((79, 72, 13), [(79, 72, 13)]), ((2, 76, 92), [(2, 76, 92)]), ((90, 61, 55), [(90, 61, 55)]), ((85, 38, 24), [(85, 38, 24)]), ((74, 1, 12), [(74, 1, 12)]), ((15, 52, 39), [(15, 52, 39)]), ((56, 93, 81), [(56, 93, 81)]), ((71, 62, 17), [(71, 62, 17)]), ((30, 1, 63), [(30, 1, 63)]), ((71, 47, 6), [(71, 47, 6)]), ((95, 64, 62), [(95, 64, 62)]), ((0, 59, 5), [(0, 59, 5)]), ((56, 71, 7), [(56, 71, 7)]), ((41, 63, 16), [(41, 63, 16)]), ((58, 86, 59), [(58, 86, 59)]), ((47, 14, 67), [(47, 14, 67)]), ((14, 5, 6), [(14, 5, 6)]), ((100, 68, 77), [(100, 68, 77)]), ((91, 70, 18), [(91, 70, 18)]), ((58, 76, 89), [(58, 76, 89)]), ((93, 74, 97), [(93, 74, 97)]), ((43, 49, 12), [(43, 49, 12)]), ((96, 19, 94), [(96, 19, 94)]), ((90, 71, 9), [(90, 71, 9)]), ((45, 67, 100), [(45, 67, 100)]), ((58, 92, 75), [(58, 92, 75)]), ((55, 53, 70), [(55, 53, 70)]), ((92, 56, 86), [(92, 56, 86)]), ((13, 59, 96), [(13, 59, 96)]), ((74, 42, 100), [(74, 42, 100)]), ((38, 62, 22), [(38, 62, 22)]), ((52, 1, 75), [(52, 1, 75)]), ((28, 11, 9), [(28, 11, 9)]), ((59, 42, 25), [(59, 42, 25)]), ((65, 27, 28), [(65, 27, 28)]), ((46, 43, 68), [(46, 43, 68)]), ((33, 26, 90), [(33, 26, 90)]), ((15, 75, 50), [(15, 75, 50)]), ((18, 45, 58), [(18, 45, 58)]), ((16, 52, 16), [(16, 52, 16)]), ((17, 25, 75), [(17, 25, 75)]), ((92, 38, 95), [(92, 38, 95)]), ((79, 29, 75), [(79, 29, 75)]), ((70, 15, 17), [(70, 15, 17)]), ((33, 18, 35), [(33, 18, 35)]), ((53, 52, 64), [(53, 52, 64)]), ((56, 13, 17), [(56, 13, 17)]), ((69, 35, 33), [(69, 35, 33)]), ((17, 25, 71), [(17, 25, 71)]), ((11, 55, 85), [(11, 55, 85)]), ((13, 0, 28), [(13, 0, 28)]), ((22, 23, 42), [(22, 23, 42)]), ((54, 14, 64), [(54, 14, 64)]), ((42, 74, 96), [(42, 74, 96)]), ((56, 88, 85), [(56, 88, 85)]), ((10, 20, 68), [(10, 20, 68)]), ((89, 45, 60), [(89, 45, 60)]), ((11, 75, 49), [(11, 75, 49)]), ((91, 60, 11), [(91, 60, 11)]), ((5, 6, 46), [(5, 6, 46)]), ((52, 23, 52), [(52, 23, 52)]), ((77, 35, 44), [(77, 35, 44)]), ((13, 84, 84), [(13, 84, 84)]), ((42, 20, 97), [(42, 20, 97)]), ((47, 0, 55), [(47, 0, 55)]), ((14, 43, 83), [(14, 43, 83)]), ((17, 60, 80), [(17, 60, 80)]), ((27, 96, 7), [(27, 96, 7)]), ((77, 20, 75), [(77, 20, 75)]), ((9, 80, 16), [(9, 80, 16)]), ((45, 60, 46), [(45, 60, 46)]), ((47, 65, 61), [(47, 65, 61)])]\n",
            "Reduce output: [(7, 22, 80), (54, 26, 51), (54, 84, 100), (44, 96, 65), (28, 49, 57), (18, 4, 47), (84, 64, 31), (13, 73, 36), (6, 74, 38), (9, 68, 22), (27, 95, 43), (60, 81, 8), (64, 49, 22), (32, 23, 96), (5, 58, 65), (65, 27, 41), (93, 55, 26), (62, 56, 100), (87, 99, 0), (30, 49, 28), (59, 43, 74), (71, 51, 79), (59, 60, 65), (85, 88, 84), (39, 14, 100), (40, 81, 26), (32, 81, 89), (31, 63, 31), (79, 72, 13), (2, 76, 92), (90, 61, 55), (85, 38, 24), (74, 1, 12), (15, 52, 39), (56, 93, 81), (71, 62, 17), (30, 1, 63), (71, 47, 6), (95, 64, 62), (0, 59, 5), (56, 71, 7), (41, 63, 16), (58, 86, 59), (47, 14, 67), (14, 5, 6), (100, 68, 77), (91, 70, 18), (58, 76, 89), (93, 74, 97), (43, 49, 12), (96, 19, 94), (90, 71, 9), (45, 67, 100), (58, 92, 75), (55, 53, 70), (92, 56, 86), (13, 59, 96), (74, 42, 100), (38, 62, 22), (52, 1, 75), (28, 11, 9), (59, 42, 25), (65, 27, 28), (46, 43, 68), (33, 26, 90), (15, 75, 50), (18, 45, 58), (16, 52, 16), (17, 25, 75), (92, 38, 95), (79, 29, 75), (70, 15, 17), (33, 18, 35), (53, 52, 64), (56, 13, 17), (69, 35, 33), (17, 25, 71), (11, 55, 85), (13, 0, 28), (22, 23, 42), (54, 14, 64), (42, 74, 96), (56, 88, 85), (10, 20, 68), (89, 45, 60), (11, 75, 49), (91, 60, 11), (5, 6, 46), (52, 23, 52), (77, 35, 44), (13, 84, 84), (42, 20, 97), (47, 0, 55), (14, 43, 83), (17, 60, 80), (27, 96, 7), (77, 20, 75), (9, 80, 16), (45, 60, 46), (47, 65, 61)]\n"
          ]
        }
      ]
    },
    {
      "cell_type": "markdown",
      "metadata": {
        "id": "dQ8TuEbjv4J8"
      },
      "source": [
        "### Intersection (Пересечение)\n",
        "\n",
        "**The Map Function:** Превратите каждый кортеж $t$ в пары ключ-значение $(t, t)$.\n",
        "\n",
        "**The Reduce Function:** Если для ключа $t$ есть список из двух элементов $[t, t]$ $-$ создайте пару $(t, t)$. Иначе, ничего не создавайте."
      ]
    },
    {
      "cell_type": "code",
      "metadata": {
        "id": "XKlBZh4IwERR",
        "colab": {
          "base_uri": "https://localhost:8080/"
        },
        "outputId": "e3547f79-6553-4235-84e9-3e13dd9a9a0b"
      },
      "source": [
        "def MAP(t):\n",
        "    return (t, t)  # Функция MAP возвращает кортеж из входного элемента и этого же элемента\n",
        "\n",
        "def REDUCE(key, values: Iterator[NamedTuple]):\n",
        "    if len(values) == 2:  # Если количество значений равно 2\n",
        "        return (key, key)  # Возвращает кортеж с ключом и значением равными ключу\n",
        "\n",
        "def RECORDREADER(count):\n",
        "    return [(random.randint(0, 3), random.randint(0, 3)) for i in range(count)]  # Генерирует список кортежей случайных чисел\n",
        "\n",
        "def group_by_key(iterable):\n",
        "    t = {}\n",
        "    for (k2, v2) in iterable:  # Перебираем элементы входного итерируемого объекта\n",
        "        t[k2] = t.get(k2, []) + [v2]  # Группируем значения по ключу k2\n",
        "    return t.items()  # Возвращаем список кортежей (ключ, список значений)\n",
        "\n",
        "record = RECORDREADER(100)  # Генерируем список кортежей случайных чисел\n",
        "print(record)\n",
        "\n",
        "map_output = list(map(lambda x: MAP(x), RECORDREADER(100)))  # Применяем функцию MAP ко всем элементам RECORDREADER(10)\n",
        "print(\"MAP output:\", map_output)\n",
        "\n",
        "shuffle_output = group_by_key(map_output)  # Группируем значения по ключу\n",
        "shuffle_output = list(shuffle_output)  # Преобразуем результат в список\n",
        "print(\"Shuffle output:\", shuffle_output)\n",
        "\n",
        "reduce_output = [el[0] for el in list(map(lambda x: REDUCE(*x), shuffle_output)) if el is not None]  # Применяем функцию REDUCE к результату группировки\n",
        "print(\"Reduce output:\", reduce_output)"
      ],
      "execution_count": 30,
      "outputs": [
        {
          "output_type": "stream",
          "name": "stdout",
          "text": [
            "[(1, 2), (1, 1), (0, 0), (1, 1), (1, 3), (0, 1), (0, 2), (0, 2), (3, 3), (2, 3), (1, 0), (0, 2), (3, 1), (1, 1), (3, 1), (3, 0), (0, 3), (3, 1), (1, 2), (1, 2), (0, 0), (3, 1), (2, 0), (2, 1), (1, 3), (1, 2), (3, 3), (0, 2), (0, 2), (3, 1), (1, 1), (1, 0), (3, 0), (1, 2), (1, 3), (0, 3), (3, 1), (3, 1), (0, 1), (1, 2), (0, 2), (1, 3), (0, 3), (0, 2), (3, 2), (2, 0), (0, 3), (1, 3), (2, 3), (2, 3), (3, 3), (1, 0), (3, 0), (0, 0), (2, 1), (1, 3), (0, 1), (3, 3), (1, 1), (1, 3), (3, 2), (2, 1), (1, 1), (0, 1), (3, 2), (2, 1), (0, 0), (2, 3), (0, 0), (2, 3), (2, 1), (1, 2), (3, 1), (3, 3), (3, 3), (3, 1), (3, 2), (0, 1), (2, 1), (1, 2), (3, 0), (0, 2), (3, 3), (1, 0), (2, 0), (1, 3), (1, 1), (2, 3), (0, 0), (3, 1), (2, 2), (1, 1), (2, 1), (0, 3), (0, 2), (0, 0), (3, 2), (3, 0), (0, 0), (0, 0)]\n",
            "MAP output: [((3, 2), (3, 2)), ((1, 1), (1, 1)), ((1, 3), (1, 3)), ((1, 0), (1, 0)), ((1, 2), (1, 2)), ((3, 2), (3, 2)), ((0, 0), (0, 0)), ((3, 0), (3, 0)), ((3, 2), (3, 2)), ((2, 0), (2, 0)), ((3, 3), (3, 3)), ((3, 1), (3, 1)), ((1, 0), (1, 0)), ((0, 3), (0, 3)), ((2, 2), (2, 2)), ((2, 0), (2, 0)), ((1, 3), (1, 3)), ((0, 2), (0, 2)), ((3, 3), (3, 3)), ((0, 3), (0, 3)), ((1, 1), (1, 1)), ((0, 2), (0, 2)), ((2, 2), (2, 2)), ((1, 0), (1, 0)), ((1, 3), (1, 3)), ((3, 3), (3, 3)), ((2, 0), (2, 0)), ((0, 3), (0, 3)), ((3, 3), (3, 3)), ((2, 2), (2, 2)), ((2, 0), (2, 0)), ((0, 0), (0, 0)), ((0, 2), (0, 2)), ((1, 3), (1, 3)), ((1, 2), (1, 2)), ((0, 2), (0, 2)), ((3, 0), (3, 0)), ((2, 2), (2, 2)), ((1, 0), (1, 0)), ((3, 1), (3, 1)), ((2, 2), (2, 2)), ((3, 0), (3, 0)), ((0, 1), (0, 1)), ((0, 2), (0, 2)), ((1, 3), (1, 3)), ((2, 1), (2, 1)), ((3, 1), (3, 1)), ((3, 0), (3, 0)), ((3, 3), (3, 3)), ((3, 1), (3, 1)), ((2, 1), (2, 1)), ((3, 3), (3, 3)), ((3, 3), (3, 3)), ((3, 2), (3, 2)), ((1, 0), (1, 0)), ((1, 1), (1, 1)), ((1, 1), (1, 1)), ((3, 3), (3, 3)), ((3, 1), (3, 1)), ((2, 3), (2, 3)), ((0, 1), (0, 1)), ((2, 2), (2, 2)), ((3, 1), (3, 1)), ((0, 1), (0, 1)), ((1, 2), (1, 2)), ((0, 3), (0, 3)), ((2, 3), (2, 3)), ((2, 0), (2, 0)), ((1, 0), (1, 0)), ((0, 3), (0, 3)), ((2, 0), (2, 0)), ((1, 3), (1, 3)), ((1, 3), (1, 3)), ((0, 0), (0, 0)), ((1, 0), (1, 0)), ((2, 2), (2, 2)), ((2, 2), (2, 2)), ((3, 1), (3, 1)), ((3, 2), (3, 2)), ((3, 3), (3, 3)), ((0, 3), (0, 3)), ((1, 0), (1, 0)), ((0, 1), (0, 1)), ((1, 0), (1, 0)), ((0, 3), (0, 3)), ((3, 2), (3, 2)), ((1, 2), (1, 2)), ((0, 3), (0, 3)), ((3, 2), (3, 2)), ((3, 0), (3, 0)), ((2, 2), (2, 2)), ((2, 1), (2, 1)), ((3, 0), (3, 0)), ((1, 1), (1, 1)), ((2, 2), (2, 2)), ((0, 3), (0, 3)), ((1, 3), (1, 3)), ((2, 1), (2, 1)), ((2, 2), (2, 2)), ((3, 0), (3, 0))]\n",
            "Shuffle output: [((3, 2), [(3, 2), (3, 2), (3, 2), (3, 2), (3, 2), (3, 2), (3, 2)]), ((1, 1), [(1, 1), (1, 1), (1, 1), (1, 1), (1, 1)]), ((1, 3), [(1, 3), (1, 3), (1, 3), (1, 3), (1, 3), (1, 3), (1, 3), (1, 3)]), ((1, 0), [(1, 0), (1, 0), (1, 0), (1, 0), (1, 0), (1, 0), (1, 0), (1, 0), (1, 0)]), ((1, 2), [(1, 2), (1, 2), (1, 2), (1, 2)]), ((0, 0), [(0, 0), (0, 0), (0, 0)]), ((3, 0), [(3, 0), (3, 0), (3, 0), (3, 0), (3, 0), (3, 0), (3, 0)]), ((2, 0), [(2, 0), (2, 0), (2, 0), (2, 0), (2, 0), (2, 0)]), ((3, 3), [(3, 3), (3, 3), (3, 3), (3, 3), (3, 3), (3, 3), (3, 3), (3, 3), (3, 3)]), ((3, 1), [(3, 1), (3, 1), (3, 1), (3, 1), (3, 1), (3, 1), (3, 1)]), ((0, 3), [(0, 3), (0, 3), (0, 3), (0, 3), (0, 3), (0, 3), (0, 3), (0, 3), (0, 3)]), ((2, 2), [(2, 2), (2, 2), (2, 2), (2, 2), (2, 2), (2, 2), (2, 2), (2, 2), (2, 2), (2, 2), (2, 2)]), ((0, 2), [(0, 2), (0, 2), (0, 2), (0, 2), (0, 2)]), ((0, 1), [(0, 1), (0, 1), (0, 1), (0, 1)]), ((2, 1), [(2, 1), (2, 1), (2, 1), (2, 1)]), ((2, 3), [(2, 3), (2, 3)])]\n",
            "Reduce output: [(2, 3)]\n"
          ]
        }
      ]
    },
    {
      "cell_type": "markdown",
      "metadata": {
        "id": "AVOpqoY3wE5k"
      },
      "source": [
        "### Difference (Разница)\n",
        "\n",
        "**The Map Function:** Для кортежа $t \\in R$, создайте пару $(t, R)$, и для кортежа $t \\in S$, создайте пару $(t, S)$. Задумка заключается в том, чтобы значение пары было именем отношения $R$ or $S$, которому принадлежит кортеж (а лучше, единичный бит, по которому можно два отношения различить $R$ or $S$), а не весь набор атрибутов отношения.\n",
        "\n",
        "**The Reduce Function:** Для каждого ключа $t$, если соответствующее значение является списком $[R]$, создайте пару $(t, t)$. В иных случаях не предпринимайте действий."
      ]
    },
    {
      "cell_type": "code",
      "metadata": {
        "id": "QE_AC09lwZIZ",
        "colab": {
          "base_uri": "https://localhost:8080/"
        },
        "outputId": "e28d9f98-e303-4228-c4f2-f821df6c2e80"
      },
      "source": [
        "rels = [1, 2]  # Инициализация массива rels с элементами 1 и 2\n",
        "\n",
        "class Tuple:  # Определение класса Tuple для хранения данных и id представления\n",
        "    def __init__(self, data: tuple, rel_id: int):\n",
        "        self.data = data\n",
        "        self.rel_id = rel_id\n",
        "\n",
        "def get_random_tuple(count):\n",
        "    data = tuple([(random.randint(0, 3), random.randint(0, 3)) for i in range(count)])  # Генерация случайного кортежа данных\n",
        "    rel_id = rels[random.randint(0, len(rels) - 1)]  # Выбор случайного id представления из массива rels\n",
        "    return Tuple(data, rel_id)  # Возвращает экземпляр класса Tuple с данными и id представления\n",
        "\n",
        "def RECORDREADER(count):\n",
        "    return [get_random_tuple(3) for i in range(count)]  # Генерация списка случайных кортежей данных\n",
        "\n",
        "def MAP(t: Tuple):\n",
        "    return (t.data, t.rel_id)  # Функция MAP возвращает кортеж из данных и id представления\n",
        "\n",
        "def REDUCE(key, values: Iterator[NamedTuple]):\n",
        "    if values == [rels[0]]:  # Если значение соответствует первому элементу в массиве rels\n",
        "        return (key, key)  # Возвращает кортеж с ключом и значением равными ключу\n",
        "\n",
        "def group_by_key(iterable):\n",
        "    t = {}\n",
        "    for (k2, v2) in iterable:\n",
        "        t[k2] = t.get(k2, []) + [v2]  # Группировка значений по ключу k2\n",
        "    return t.items()  # Возвращает список кортежей (ключ, список значений)\n",
        "\n",
        "record = RECORDREADER(100)  # Генерация списка случайных кортежей данных\n",
        "\n",
        "map_output = list(map(lambda x: MAP(x), RECORDREADER(100)))  # Применение функции MAP к каждому элементу из RECORDREADER(100)\n",
        "print(\"MAP output:\", map_output)\n",
        "\n",
        "shuffle_output = group_by_key(map_output)  # Группировка значений по ключу\n",
        "shuffle_output = list(shuffle_output)  # Преобразование результата в список\n",
        "print(\"Shuffle output:\", shuffle_output)\n",
        "\n",
        "reduce_output = [el[0] for el in list(map(lambda x: REDUCE(*x), shuffle_output)) if el is not None]  # Применение функции REDUCE к результату группировки\n",
        "print(\"Reduce output:\", reduce_output)"
      ],
      "execution_count": 31,
      "outputs": [
        {
          "output_type": "stream",
          "name": "stdout",
          "text": [
            "MAP output: [(((2, 1), (1, 0), (0, 1)), 2), (((1, 3), (1, 0), (3, 3)), 2), (((0, 0), (3, 0), (2, 0)), 2), (((3, 2), (1, 1), (3, 3)), 1), (((3, 3), (3, 1), (2, 0)), 1), (((2, 2), (0, 1), (2, 1)), 2), (((2, 1), (1, 0), (1, 0)), 2), (((2, 1), (2, 0), (3, 2)), 2), (((1, 3), (3, 3), (1, 2)), 1), (((0, 1), (3, 1), (1, 0)), 2), (((1, 0), (2, 0), (2, 3)), 2), (((3, 0), (2, 0), (3, 1)), 1), (((0, 3), (1, 2), (1, 3)), 1), (((2, 0), (0, 3), (1, 0)), 2), (((3, 0), (3, 2), (0, 1)), 1), (((1, 3), (0, 0), (0, 3)), 1), (((3, 3), (0, 3), (0, 1)), 2), (((2, 3), (0, 3), (0, 3)), 2), (((3, 2), (2, 2), (3, 2)), 2), (((0, 1), (1, 0), (2, 0)), 1), (((2, 1), (2, 1), (3, 1)), 2), (((3, 1), (0, 3), (1, 1)), 2), (((1, 1), (3, 0), (1, 0)), 1), (((3, 0), (1, 2), (1, 1)), 2), (((2, 3), (0, 1), (3, 2)), 1), (((0, 2), (1, 1), (0, 1)), 1), (((3, 1), (3, 3), (3, 1)), 1), (((3, 2), (0, 0), (1, 2)), 1), (((3, 2), (2, 2), (2, 2)), 1), (((0, 0), (0, 1), (1, 2)), 2), (((2, 1), (0, 2), (3, 1)), 1), (((3, 2), (0, 1), (2, 1)), 1), (((0, 0), (3, 3), (0, 1)), 2), (((3, 1), (3, 3), (3, 1)), 1), (((2, 0), (2, 0), (0, 3)), 2), (((1, 0), (0, 3), (0, 2)), 2), (((2, 2), (1, 0), (0, 1)), 2), (((3, 2), (0, 3), (1, 2)), 2), (((3, 2), (0, 1), (0, 0)), 1), (((0, 0), (2, 3), (2, 2)), 2), (((0, 0), (0, 0), (1, 2)), 1), (((0, 3), (3, 1), (0, 0)), 1), (((3, 1), (3, 0), (1, 1)), 1), (((0, 0), (2, 2), (0, 3)), 1), (((0, 3), (3, 0), (3, 0)), 1), (((2, 3), (1, 0), (2, 0)), 2), (((1, 0), (3, 2), (1, 3)), 1), (((0, 0), (2, 2), (0, 2)), 1), (((3, 2), (2, 2), (1, 2)), 1), (((3, 2), (1, 1), (2, 3)), 1), (((3, 3), (2, 0), (0, 2)), 2), (((3, 1), (3, 2), (1, 3)), 1), (((3, 1), (0, 3), (0, 0)), 1), (((2, 1), (3, 3), (0, 1)), 2), (((0, 1), (0, 1), (0, 3)), 2), (((2, 3), (3, 2), (2, 1)), 2), (((2, 3), (1, 2), (0, 1)), 1), (((2, 3), (3, 3), (0, 2)), 1), (((0, 3), (2, 3), (3, 2)), 1), (((2, 3), (3, 2), (0, 2)), 1), (((0, 0), (3, 3), (2, 0)), 1), (((3, 2), (0, 1), (1, 0)), 2), (((0, 1), (0, 0), (3, 1)), 1), (((2, 2), (0, 1), (1, 0)), 2), (((2, 2), (2, 2), (0, 0)), 1), (((2, 0), (3, 0), (2, 2)), 2), (((1, 0), (0, 3), (2, 1)), 2), (((0, 3), (2, 1), (1, 1)), 2), (((2, 2), (2, 3), (2, 3)), 2), (((3, 2), (3, 3), (3, 1)), 1), (((1, 2), (0, 1), (1, 1)), 2), (((1, 2), (2, 3), (0, 0)), 2), (((3, 1), (0, 1), (2, 3)), 1), (((3, 0), (0, 2), (3, 3)), 2), (((1, 3), (2, 0), (0, 2)), 2), (((3, 1), (2, 0), (2, 1)), 2), (((1, 0), (3, 0), (1, 0)), 1), (((3, 3), (3, 0), (1, 1)), 2), (((0, 1), (2, 1), (2, 3)), 2), (((1, 2), (0, 1), (3, 3)), 2), (((3, 1), (1, 1), (3, 1)), 2), (((1, 1), (0, 1), (3, 1)), 1), (((1, 1), (0, 0), (1, 0)), 2), (((2, 0), (1, 2), (0, 2)), 1), (((2, 1), (3, 1), (1, 0)), 1), (((0, 3), (2, 3), (3, 2)), 2), (((2, 1), (3, 0), (0, 1)), 1), (((3, 2), (1, 0), (1, 1)), 1), (((0, 3), (0, 2), (1, 2)), 1), (((2, 0), (3, 0), (3, 1)), 2), (((1, 3), (3, 1), (2, 3)), 2), (((0, 0), (3, 0), (2, 3)), 2), (((0, 2), (2, 3), (0, 1)), 1), (((3, 1), (1, 3), (3, 2)), 1), (((3, 0), (0, 0), (3, 1)), 1), (((2, 0), (1, 1), (1, 1)), 2), (((1, 3), (3, 2), (0, 3)), 1), (((0, 3), (0, 1), (0, 1)), 1), (((3, 3), (0, 2), (2, 0)), 2), (((1, 3), (1, 1), (0, 2)), 2)]\n",
            "Shuffle output: [(((2, 1), (1, 0), (0, 1)), [2]), (((1, 3), (1, 0), (3, 3)), [2]), (((0, 0), (3, 0), (2, 0)), [2]), (((3, 2), (1, 1), (3, 3)), [1]), (((3, 3), (3, 1), (2, 0)), [1]), (((2, 2), (0, 1), (2, 1)), [2]), (((2, 1), (1, 0), (1, 0)), [2]), (((2, 1), (2, 0), (3, 2)), [2]), (((1, 3), (3, 3), (1, 2)), [1]), (((0, 1), (3, 1), (1, 0)), [2]), (((1, 0), (2, 0), (2, 3)), [2]), (((3, 0), (2, 0), (3, 1)), [1]), (((0, 3), (1, 2), (1, 3)), [1]), (((2, 0), (0, 3), (1, 0)), [2]), (((3, 0), (3, 2), (0, 1)), [1]), (((1, 3), (0, 0), (0, 3)), [1]), (((3, 3), (0, 3), (0, 1)), [2]), (((2, 3), (0, 3), (0, 3)), [2]), (((3, 2), (2, 2), (3, 2)), [2]), (((0, 1), (1, 0), (2, 0)), [1]), (((2, 1), (2, 1), (3, 1)), [2]), (((3, 1), (0, 3), (1, 1)), [2]), (((1, 1), (3, 0), (1, 0)), [1]), (((3, 0), (1, 2), (1, 1)), [2]), (((2, 3), (0, 1), (3, 2)), [1]), (((0, 2), (1, 1), (0, 1)), [1]), (((3, 1), (3, 3), (3, 1)), [1, 1]), (((3, 2), (0, 0), (1, 2)), [1]), (((3, 2), (2, 2), (2, 2)), [1]), (((0, 0), (0, 1), (1, 2)), [2]), (((2, 1), (0, 2), (3, 1)), [1]), (((3, 2), (0, 1), (2, 1)), [1]), (((0, 0), (3, 3), (0, 1)), [2]), (((2, 0), (2, 0), (0, 3)), [2]), (((1, 0), (0, 3), (0, 2)), [2]), (((2, 2), (1, 0), (0, 1)), [2]), (((3, 2), (0, 3), (1, 2)), [2]), (((3, 2), (0, 1), (0, 0)), [1]), (((0, 0), (2, 3), (2, 2)), [2]), (((0, 0), (0, 0), (1, 2)), [1]), (((0, 3), (3, 1), (0, 0)), [1]), (((3, 1), (3, 0), (1, 1)), [1]), (((0, 0), (2, 2), (0, 3)), [1]), (((0, 3), (3, 0), (3, 0)), [1]), (((2, 3), (1, 0), (2, 0)), [2]), (((1, 0), (3, 2), (1, 3)), [1]), (((0, 0), (2, 2), (0, 2)), [1]), (((3, 2), (2, 2), (1, 2)), [1]), (((3, 2), (1, 1), (2, 3)), [1]), (((3, 3), (2, 0), (0, 2)), [2]), (((3, 1), (3, 2), (1, 3)), [1]), (((3, 1), (0, 3), (0, 0)), [1]), (((2, 1), (3, 3), (0, 1)), [2]), (((0, 1), (0, 1), (0, 3)), [2]), (((2, 3), (3, 2), (2, 1)), [2]), (((2, 3), (1, 2), (0, 1)), [1]), (((2, 3), (3, 3), (0, 2)), [1]), (((0, 3), (2, 3), (3, 2)), [1, 2]), (((2, 3), (3, 2), (0, 2)), [1]), (((0, 0), (3, 3), (2, 0)), [1]), (((3, 2), (0, 1), (1, 0)), [2]), (((0, 1), (0, 0), (3, 1)), [1]), (((2, 2), (0, 1), (1, 0)), [2]), (((2, 2), (2, 2), (0, 0)), [1]), (((2, 0), (3, 0), (2, 2)), [2]), (((1, 0), (0, 3), (2, 1)), [2]), (((0, 3), (2, 1), (1, 1)), [2]), (((2, 2), (2, 3), (2, 3)), [2]), (((3, 2), (3, 3), (3, 1)), [1]), (((1, 2), (0, 1), (1, 1)), [2]), (((1, 2), (2, 3), (0, 0)), [2]), (((3, 1), (0, 1), (2, 3)), [1]), (((3, 0), (0, 2), (3, 3)), [2]), (((1, 3), (2, 0), (0, 2)), [2]), (((3, 1), (2, 0), (2, 1)), [2]), (((1, 0), (3, 0), (1, 0)), [1]), (((3, 3), (3, 0), (1, 1)), [2]), (((0, 1), (2, 1), (2, 3)), [2]), (((1, 2), (0, 1), (3, 3)), [2]), (((3, 1), (1, 1), (3, 1)), [2]), (((1, 1), (0, 1), (3, 1)), [1]), (((1, 1), (0, 0), (1, 0)), [2]), (((2, 0), (1, 2), (0, 2)), [1]), (((2, 1), (3, 1), (1, 0)), [1]), (((2, 1), (3, 0), (0, 1)), [1]), (((3, 2), (1, 0), (1, 1)), [1]), (((0, 3), (0, 2), (1, 2)), [1]), (((2, 0), (3, 0), (3, 1)), [2]), (((1, 3), (3, 1), (2, 3)), [2]), (((0, 0), (3, 0), (2, 3)), [2]), (((0, 2), (2, 3), (0, 1)), [1]), (((3, 1), (1, 3), (3, 2)), [1]), (((3, 0), (0, 0), (3, 1)), [1]), (((2, 0), (1, 1), (1, 1)), [2]), (((1, 3), (3, 2), (0, 3)), [1]), (((0, 3), (0, 1), (0, 1)), [1]), (((3, 3), (0, 2), (2, 0)), [2]), (((1, 3), (1, 1), (0, 2)), [2])]\n",
            "Reduce output: [((3, 2), (1, 1), (3, 3)), ((3, 3), (3, 1), (2, 0)), ((1, 3), (3, 3), (1, 2)), ((3, 0), (2, 0), (3, 1)), ((0, 3), (1, 2), (1, 3)), ((3, 0), (3, 2), (0, 1)), ((1, 3), (0, 0), (0, 3)), ((0, 1), (1, 0), (2, 0)), ((1, 1), (3, 0), (1, 0)), ((2, 3), (0, 1), (3, 2)), ((0, 2), (1, 1), (0, 1)), ((3, 2), (0, 0), (1, 2)), ((3, 2), (2, 2), (2, 2)), ((2, 1), (0, 2), (3, 1)), ((3, 2), (0, 1), (2, 1)), ((3, 2), (0, 1), (0, 0)), ((0, 0), (0, 0), (1, 2)), ((0, 3), (3, 1), (0, 0)), ((3, 1), (3, 0), (1, 1)), ((0, 0), (2, 2), (0, 3)), ((0, 3), (3, 0), (3, 0)), ((1, 0), (3, 2), (1, 3)), ((0, 0), (2, 2), (0, 2)), ((3, 2), (2, 2), (1, 2)), ((3, 2), (1, 1), (2, 3)), ((3, 1), (3, 2), (1, 3)), ((3, 1), (0, 3), (0, 0)), ((2, 3), (1, 2), (0, 1)), ((2, 3), (3, 3), (0, 2)), ((2, 3), (3, 2), (0, 2)), ((0, 0), (3, 3), (2, 0)), ((0, 1), (0, 0), (3, 1)), ((2, 2), (2, 2), (0, 0)), ((3, 2), (3, 3), (3, 1)), ((3, 1), (0, 1), (2, 3)), ((1, 0), (3, 0), (1, 0)), ((1, 1), (0, 1), (3, 1)), ((2, 0), (1, 2), (0, 2)), ((2, 1), (3, 1), (1, 0)), ((2, 1), (3, 0), (0, 1)), ((3, 2), (1, 0), (1, 1)), ((0, 3), (0, 2), (1, 2)), ((0, 2), (2, 3), (0, 1)), ((3, 1), (1, 3), (3, 2)), ((3, 0), (0, 0), (3, 1)), ((1, 3), (3, 2), (0, 3)), ((0, 3), (0, 1), (0, 1))]\n"
          ]
        }
      ]
    },
    {
      "cell_type": "markdown",
      "metadata": {
        "id": "j8I58V2VwhSm"
      },
      "source": [
        "### Natural Join\n",
        "\n",
        "**The Map Function:** Для каждого кортежа $(a, b)$ отношения $R$, создайте пару $(b,(R, a))$. Для каждого кортежа $(b, c)$ отношения $S$, создайте пару $(b,(S, c))$.\n",
        "\n",
        "**The Reduce Function:** Каждый ключ $b$ будет асоциирован со списком пар, которые принимают форму либо $(R, a)$, либо $(S, c)$. Создайте все пары, одни, состоящие из  первого компонента $R$, а другие, из первого компонента $S$, то есть $(R, a)$ и $(S, c)$. На выходе вы получаете последовательность пар ключ-значение из списков ключей и значений. Ключ не нужен. Каждое значение, это тройка $(a, b, c)$ такая, что $(R, a)$ и $(S, c)$ это принадлежат входному списку значений."
      ]
    },
    {
      "cell_type": "code",
      "metadata": {
        "id": "yHiuuTctw86I",
        "colab": {
          "base_uri": "https://localhost:8080/"
        },
        "outputId": "b1ffaea4-4856-4879-d6ff-3012aa2a76be"
      },
      "source": [
        "rels = [1, 2]  # Инициализация списка идентификаторов связей\n",
        "\n",
        "class Tuple:  # Определение класса кортежа, хранящего данные и идентификатор связи из массива rels выше\n",
        "  def __init__(self, data: tuple, rel_id: int):\n",
        "    self.data = data\n",
        "    self.rel_id = rel_id\n",
        "\n",
        "def get_random_tuple():  # Функция для генерации случайного кортежа с данными и идентификатором связи\n",
        "  data = (random.randint(0, 3), random.randint(0, 3))\n",
        "  rel_id = rels[random.randint(0, len(rels) - 1)]\n",
        "  return Tuple(data, rel_id)\n",
        "\n",
        "def RECORDREADER(count):  # Функция для создания списка случайных кортежей заданного количества\n",
        "  return [get_random_tuple() for i in range(count)]\n",
        "\n",
        "def MAP(t: Tuple):  # Функция для преобразования данных кортежа в соответствии с условием\n",
        "  if t.rel_id == rels[0]:\n",
        "    return (t.data[1], (t.rel_id, t.data[0]))\n",
        "  else:\n",
        "    return (t.data[0], (t.rel_id, t.data[1]))\n",
        "\n",
        "def REDUCE(key, values: Iterator[NamedTuple]):  # Функция для объединения данных по ключу\n",
        "  res = []\n",
        "  for v in values:\n",
        "    res.append((v[0], key, v[1]))\n",
        "  return res\n",
        "\n",
        "def group_by_key(iterable):  # Функция для группировки данных по ключу\n",
        "  t = {}\n",
        "  for (k2, v2) in iterable:\n",
        "    t[k2] = t.get(k2, []) + [v2]\n",
        "  return t.items()\n",
        "\n",
        "record = RECORDREADER(100)  # Создание списка случайных кортежей\n",
        "\n",
        "map_output = list(map(lambda x: MAP(x), RECORDREADER(100)))  # Применение функции MAP к каждому элементу\n",
        "print(\"MAP output:\", map_output)\n",
        "\n",
        "shuffle_output = group_by_key(map_output)  # Группировка данных по ключу\n",
        "shuffle_output = list(shuffle_output)\n",
        "print(\"Shuffle output:\", shuffle_output)\n",
        "\n",
        "reduce_output = list(map(lambda x: REDUCE(*x), shuffle_output))  # Применение функции REDUCE к каждой группе\n",
        "print(\"Reduce output:\", reduce_output)"
      ],
      "execution_count": 32,
      "outputs": [
        {
          "output_type": "stream",
          "name": "stdout",
          "text": [
            "MAP output: [(1, (1, 1)), (1, (2, 3)), (1, (2, 1)), (0, (2, 3)), (1, (2, 1)), (2, (1, 0)), (2, (2, 1)), (3, (2, 3)), (0, (1, 1)), (2, (1, 3)), (0, (2, 0)), (3, (1, 0)), (3, (1, 3)), (2, (1, 1)), (2, (2, 0)), (3, (1, 2)), (2, (2, 0)), (0, (2, 0)), (2, (1, 2)), (2, (2, 0)), (1, (1, 0)), (2, (2, 2)), (3, (2, 3)), (2, (2, 3)), (0, (2, 2)), (1, (2, 2)), (0, (2, 0)), (3, (1, 3)), (3, (2, 2)), (1, (1, 2)), (1, (1, 3)), (1, (2, 1)), (2, (2, 2)), (0, (1, 3)), (1, (2, 3)), (1, (2, 3)), (0, (2, 1)), (3, (1, 1)), (1, (2, 0)), (1, (1, 2)), (2, (2, 0)), (2, (1, 3)), (3, (1, 0)), (3, (1, 3)), (3, (2, 2)), (0, (2, 2)), (0, (2, 1)), (0, (2, 0)), (1, (2, 0)), (0, (1, 2)), (3, (2, 3)), (0, (2, 0)), (1, (1, 3)), (0, (2, 3)), (3, (2, 3)), (1, (1, 0)), (2, (1, 0)), (3, (1, 2)), (1, (2, 2)), (1, (2, 2)), (3, (2, 2)), (1, (1, 3)), (3, (2, 2)), (3, (1, 0)), (1, (2, 1)), (1, (1, 0)), (2, (2, 2)), (0, (1, 0)), (1, (2, 2)), (0, (1, 1)), (1, (2, 1)), (3, (2, 0)), (0, (1, 0)), (0, (1, 3)), (3, (2, 3)), (0, (1, 2)), (0, (2, 3)), (0, (1, 1)), (0, (1, 1)), (1, (1, 0)), (0, (2, 2)), (2, (1, 2)), (1, (1, 0)), (3, (1, 1)), (2, (2, 1)), (3, (1, 2)), (1, (1, 3)), (3, (2, 2)), (1, (2, 3)), (3, (1, 2)), (2, (1, 0)), (3, (2, 0)), (2, (1, 1)), (3, (1, 2)), (1, (2, 0)), (3, (1, 0)), (1, (2, 3)), (1, (2, 0)), (3, (1, 0)), (2, (1, 2))]\n",
            "Shuffle output: [(1, [(1, 1), (2, 3), (2, 1), (2, 1), (1, 0), (2, 2), (1, 2), (1, 3), (2, 1), (2, 3), (2, 3), (2, 0), (1, 2), (2, 0), (1, 3), (1, 0), (2, 2), (2, 2), (1, 3), (2, 1), (1, 0), (2, 2), (2, 1), (1, 0), (1, 0), (1, 3), (2, 3), (2, 0), (2, 3), (2, 0)]), (0, [(2, 3), (1, 1), (2, 0), (2, 0), (2, 2), (2, 0), (1, 3), (2, 1), (2, 2), (2, 1), (2, 0), (1, 2), (2, 0), (2, 3), (1, 0), (1, 1), (1, 0), (1, 3), (1, 2), (2, 3), (1, 1), (1, 1), (2, 2)]), (2, [(1, 0), (2, 1), (1, 3), (1, 1), (2, 0), (2, 0), (1, 2), (2, 0), (2, 2), (2, 3), (2, 2), (2, 0), (1, 3), (1, 0), (2, 2), (1, 2), (2, 1), (1, 0), (1, 1), (1, 2)]), (3, [(2, 3), (1, 0), (1, 3), (1, 2), (2, 3), (1, 3), (2, 2), (1, 1), (1, 0), (1, 3), (2, 2), (2, 3), (2, 3), (1, 2), (2, 2), (2, 2), (1, 0), (2, 0), (2, 3), (1, 1), (1, 2), (2, 2), (1, 2), (2, 0), (1, 2), (1, 0), (1, 0)])]\n",
            "Reduce output: [[(1, 1, 1), (2, 1, 3), (2, 1, 1), (2, 1, 1), (1, 1, 0), (2, 1, 2), (1, 1, 2), (1, 1, 3), (2, 1, 1), (2, 1, 3), (2, 1, 3), (2, 1, 0), (1, 1, 2), (2, 1, 0), (1, 1, 3), (1, 1, 0), (2, 1, 2), (2, 1, 2), (1, 1, 3), (2, 1, 1), (1, 1, 0), (2, 1, 2), (2, 1, 1), (1, 1, 0), (1, 1, 0), (1, 1, 3), (2, 1, 3), (2, 1, 0), (2, 1, 3), (2, 1, 0)], [(2, 0, 3), (1, 0, 1), (2, 0, 0), (2, 0, 0), (2, 0, 2), (2, 0, 0), (1, 0, 3), (2, 0, 1), (2, 0, 2), (2, 0, 1), (2, 0, 0), (1, 0, 2), (2, 0, 0), (2, 0, 3), (1, 0, 0), (1, 0, 1), (1, 0, 0), (1, 0, 3), (1, 0, 2), (2, 0, 3), (1, 0, 1), (1, 0, 1), (2, 0, 2)], [(1, 2, 0), (2, 2, 1), (1, 2, 3), (1, 2, 1), (2, 2, 0), (2, 2, 0), (1, 2, 2), (2, 2, 0), (2, 2, 2), (2, 2, 3), (2, 2, 2), (2, 2, 0), (1, 2, 3), (1, 2, 0), (2, 2, 2), (1, 2, 2), (2, 2, 1), (1, 2, 0), (1, 2, 1), (1, 2, 2)], [(2, 3, 3), (1, 3, 0), (1, 3, 3), (1, 3, 2), (2, 3, 3), (1, 3, 3), (2, 3, 2), (1, 3, 1), (1, 3, 0), (1, 3, 3), (2, 3, 2), (2, 3, 3), (2, 3, 3), (1, 3, 2), (2, 3, 2), (2, 3, 2), (1, 3, 0), (2, 3, 0), (2, 3, 3), (1, 3, 1), (1, 3, 2), (2, 3, 2), (1, 3, 2), (2, 3, 0), (1, 3, 2), (1, 3, 0), (1, 3, 0)]]\n"
          ]
        }
      ]
    },
    {
      "cell_type": "markdown",
      "metadata": {
        "id": "kYdlr0YUxE27"
      },
      "source": [
        "### Grouping and Aggregation (Группировка и аггрегация)\n",
        "\n",
        "**The Map Function:** Для каждого кортежа $(a, b, c$) создайте пару $(a, b)$.\n",
        "\n",
        "**The Reduce Function:** Ключ представляет ту или иную группу. Примение аггрегирующую операцию $\\theta$ к списку значений $[b1, b2, . . . , bn]$ ассоциированных с ключом $a$. Возвращайте в выходной поток $(a, x)$, где $x$ результат применения  $\\theta$ к списку. Например, если $\\theta$ это $SUM$, тогда $x = b1 + b2 + · · · + bn$, а если $\\theta$ is $MAX$, тогда $x$ это максимальное из значений $b1, b2, . . . , bn$."
      ]
    },
    {
      "cell_type": "code",
      "metadata": {
        "id": "MLPckfEGxico",
        "colab": {
          "base_uri": "https://localhost:8080/"
        },
        "outputId": "d1f90662-ead2-44bc-8b1f-630f0cc3a6f6"
      },
      "source": [
        "def get_random_tuple():  # Функция для генерации случайного кортежа с тремя случайными значениями от 0 до 3\n",
        "  return (random.randint(0, 3), random.randint(0, 3), random.randint(0, 3))\n",
        "\n",
        "def RECORDREADER(count):  # Функция для создания списка случайных кортежей заданного количества\n",
        "  return [get_random_tuple() for i in range(count)]\n",
        "\n",
        "def MAP(t: Tuple):  # Функция для преобразования входного кортежа, возвращающая первые два элемента кортежа\n",
        "  return (t[0], t[1])\n",
        "\n",
        "def tetta(values):  # Функция для вычисления суммы значений в переданном списке\n",
        "  return sum(values)\n",
        "\n",
        "def REDUCE(key, values: Iterator[NamedTuple]):  # Функция для вычисления суммы значений в переданных значениях и возврата пары (ключ, сумма)\n",
        "  x = tetta(values)\n",
        "  return (key, x)\n",
        "\n",
        "def group_by_key(iterable):  # Функция для группировки данных по ключу\n",
        "  t = {}\n",
        "  for (k2, v2) in iterable:\n",
        "    t[k2] = t.get(k2, []) + [v2]\n",
        "  return t.items()\n",
        "\n",
        "record = RECORDREADER(100)  # Создание списка случайных кортежей\n",
        "\n",
        "map_output = list(map(lambda x: MAP(x), RECORDREADER(100)))  # Применение функции MAP к каждому элементу\n",
        "print(\"MAP output:\", map_output)\n",
        "\n",
        "shuffle_output = group_by_key(map_output)  # Группировка данных по ключу\n",
        "shuffle_output = list(shuffle_output)\n",
        "print(\"Shuffle output:\", shuffle_output)\n",
        "\n",
        "reduce_output = list(map(lambda x: REDUCE(*x), shuffle_output))  # Применение функции REDUCE к каждой группе\n",
        "print(\"Reduce output:\", reduce_output)"
      ],
      "execution_count": 33,
      "outputs": [
        {
          "output_type": "stream",
          "name": "stdout",
          "text": [
            "MAP output: [(2, 2), (0, 0), (3, 3), (1, 0), (3, 2), (2, 3), (2, 3), (0, 1), (3, 3), (2, 3), (3, 0), (0, 2), (0, 2), (0, 2), (1, 3), (1, 1), (1, 0), (1, 0), (3, 3), (3, 0), (3, 2), (2, 0), (2, 0), (2, 1), (3, 2), (1, 1), (3, 3), (3, 2), (1, 1), (3, 2), (3, 2), (1, 1), (2, 1), (0, 2), (1, 1), (3, 1), (1, 1), (1, 3), (0, 1), (3, 3), (1, 1), (3, 3), (2, 1), (0, 2), (2, 3), (0, 1), (0, 1), (0, 1), (3, 0), (2, 0), (0, 2), (0, 0), (0, 3), (3, 2), (3, 0), (2, 3), (3, 0), (2, 2), (1, 2), (2, 2), (1, 2), (3, 2), (3, 1), (1, 1), (3, 2), (3, 1), (3, 1), (1, 3), (1, 3), (0, 0), (1, 2), (0, 2), (2, 2), (3, 1), (3, 2), (1, 0), (0, 3), (2, 0), (3, 1), (0, 0), (2, 3), (2, 2), (3, 0), (2, 0), (1, 2), (1, 1), (1, 3), (3, 0), (3, 3), (1, 2), (1, 2), (0, 0), (3, 2), (0, 1), (3, 1), (3, 0), (2, 3), (1, 1), (1, 2), (1, 2)]\n",
            "Shuffle output: [(2, [2, 3, 3, 3, 0, 0, 1, 1, 1, 3, 0, 3, 2, 2, 2, 0, 3, 2, 0, 3]), (0, [0, 1, 2, 2, 2, 2, 1, 2, 1, 1, 1, 2, 0, 3, 0, 2, 3, 0, 0, 1]), (3, [3, 2, 3, 0, 3, 0, 2, 2, 3, 2, 2, 2, 1, 3, 3, 0, 2, 0, 0, 2, 1, 2, 1, 1, 1, 2, 1, 0, 0, 3, 2, 1, 0]), (1, [0, 3, 1, 0, 0, 1, 1, 1, 1, 1, 3, 1, 2, 2, 1, 3, 3, 2, 0, 2, 1, 3, 2, 2, 1, 2, 2])]\n",
            "Reduce output: [(2, 34), (0, 26), (3, 50), (1, 41)]\n"
          ]
        }
      ]
    },
    {
      "cell_type": "markdown",
      "metadata": {
        "id": "03IffTEOJgOb"
      },
      "source": [
        "#"
      ]
    },
    {
      "cell_type": "markdown",
      "metadata": {
        "id": "IIrRgvG4RIS4"
      },
      "source": [
        "### Matrix-Vector multiplication\n",
        "\n",
        "Случай, когда вектор не помещается в памяти Map задачи\n"
      ]
    },
    {
      "cell_type": "code",
      "metadata": {
        "id": "KQhDbiL3zS9r"
      },
      "source": [],
      "execution_count": null,
      "outputs": []
    },
    {
      "cell_type": "markdown",
      "metadata": {
        "id": "GIo2t7nNxvA9"
      },
      "source": [
        "## Matrix multiplication (Перемножение матриц)\n",
        "\n",
        "Если у нас есть матрица $M$ с элементами $m_{ij}$ в строке $i$ и столбце $j$, и матрица $N$ с элементами $n_{jk}$ в строке $j$ и столбце $k$, тогда их произведение $P = MN$ есть матрица $P$ с элементами $p_{ik}$ в строке $i$ и столбце $k$, где\n",
        "\n",
        "$$p_{ik} =\\sum_{j} m_{ij}n_{jk}$$\n",
        "\n",
        "Необходимым требованием является одинаковое количество столбцов в $M$ и строк в $N$, чтобы операция суммирования по  $j$ была осмысленной. Мы можем размышлять о матрице, как об отношении с тремя атрибутами: номер строки, номер столбца, само значение. Таким образом матрица $M$ предстваляется как отношение $ M(I, J, V )$, с кортежами $(i, j, m_{ij})$, и, аналогично, матрица $N$ представляется как отношение $N(J, K, W)$, с кортежами $(j, k, n_{jk})$. Так как большие матрицы как правило разреженные (большинство значений равно 0), и так как мы можем нулевыми значениями пренебречь (не хранить), такое реляционное представление достаточно эффективно для больших матриц. Однако, возможно, что координаты $i$, $j$, и $k$ неявно закодированы в смещение позиции элемента относительно начала файла, вместо явного хранения. Тогда, функция Map (или Reader) должна быть разработана таким образом, чтобы реконструировать компоненты $I$, $J$, и $K$ кортежей из смещения.\n",
        "\n",
        "Произведение $MN$ это фактически join, за которым следуют группировка по ключу и аггрегация. Таким образом join отношений $M(I, J, V )$ и $N(J, K, W)$, имеющих общим только атрибут $J$, создаст кортежи $(i, j, k, v, w)$ из каждого кортежа $(i, j, v) \\in M$ и кортежа $(j, k, w) \\in N$. Такой 5 компонентный кортеж представляет пару элементов матрицы $(m_{ij} , n_{jk})$. Что нам хотелось бы получить на самом деле, это произведение этих элементов, то есть, 4 компонентный кортеж$(i, j, k, v \\times w)$, так как он представляет произведение $m_{ij}n_{jk}$. Мы представляем отношение как результат одной MapReduce операции, в которой мы можем произвести группировку и аггрегацию, с $I$ и $K$  атрибутами, по которым идёт группировка, и суммой  $V \\times W$.\n",
        "\n",
        "\n",
        "\n"
      ]
    },
    {
      "cell_type": "code",
      "metadata": {
        "id": "1MBkGaLAYVCt"
      },
      "source": [
        "# MapReduce model\n",
        "def flatten(nested_iterable):\n",
        "  for iterable in nested_iterable:\n",
        "    for element in iterable:\n",
        "      yield element\n",
        "\n",
        "def groupbykey(iterable):\n",
        "  t = {}\n",
        "  for (k2, v2) in iterable:\n",
        "    t[k2] = t.get(k2, []) + [v2]\n",
        "  return t.items()\n",
        "\n",
        "def MapReduce(RECORDREADER, MAP, REDUCE):\n",
        "  return flatten(map(lambda x: REDUCE(*x), groupbykey(flatten(map(lambda x: MAP(*x), RECORDREADER())))))"
      ],
      "execution_count": 36,
      "outputs": []
    },
    {
      "cell_type": "markdown",
      "metadata": {
        "id": "sMspsOT0ZB35"
      },
      "source": [
        "Реализуйте перемножение матриц с использованием модельного кода MapReduce для одной машины в случае, когда одна матрица хранится в памяти, а другая генерируется RECORDREADER-ом."
      ]
    },
    {
      "cell_type": "code",
      "metadata": {
        "id": "psP1XekbsEjS"
      },
      "source": [
        "import numpy as np\n",
        "I = 2\n",
        "J = 3\n",
        "K = 4*10\n",
        "small_mat = np.random.rand(I,J) # it is legal to access this from RECORDREADER, MAP, REDUCE\n",
        "big_mat = np.random.rand(J,K)\n",
        "\n",
        "def RECORDREADER():\n",
        "  for j in range(big_mat.shape[0]):\n",
        "    for k in range(big_mat.shape[1]):\n",
        "      yield ((j,k), big_mat[j,k])\n",
        "\n",
        "def MAP(k1, v1):\n",
        "  (j, k) = k1\n",
        "  w = v1\n",
        "  for i in range(small_mat.shape[0]):\n",
        "    yield ((i, k), w * small_mat[i][j])\n",
        "\n",
        "def REDUCE(key, values):\n",
        "  (i, k) = key\n",
        "  el_value = 0\n",
        "  for v in values:\n",
        "    el_value += v\n",
        "  yield ((i, k), el_value)"
      ],
      "execution_count": 37,
      "outputs": []
    },
    {
      "cell_type": "markdown",
      "metadata": {
        "id": "rnt306LHhHrm"
      },
      "source": [
        "Проверьте своё решение"
      ]
    },
    {
      "cell_type": "code",
      "metadata": {
        "id": "Ewy_ZNYqW5a2",
        "colab": {
          "base_uri": "https://localhost:8080/"
        },
        "outputId": "955c76f2-931a-443d-c6db-2fdf6fd28ba4"
      },
      "source": [
        "# CHECK THE SOLUTION\n",
        "reference_solution = np.matmul(small_mat, big_mat)\n",
        "solution = MapReduce(RECORDREADER, MAP, REDUCE)\n",
        "\n",
        "def asmatrix(reduce_output):\n",
        "  reduce_output = list(reduce_output)\n",
        "  I = max(i for ((i,k), vw) in reduce_output)+1\n",
        "  K = max(k for ((i,k), vw) in reduce_output)+1\n",
        "  mat = np.empty(shape=(I,K))\n",
        "  for ((i,k), vw) in reduce_output:\n",
        "    mat[i,k] = vw\n",
        "  return mat\n",
        "\n",
        "np.allclose(reference_solution, asmatrix(solution)) # should return true"
      ],
      "execution_count": 38,
      "outputs": [
        {
          "output_type": "execute_result",
          "data": {
            "text/plain": [
              "True"
            ]
          },
          "metadata": {},
          "execution_count": 38
        }
      ]
    },
    {
      "cell_type": "code",
      "metadata": {
        "id": "TK7v4CEcfxqf",
        "colab": {
          "base_uri": "https://localhost:8080/"
        },
        "outputId": "84ff14bb-4581-48d5-e28d-08b9ea108524"
      },
      "source": [
        "reduce_output = list(MapReduce(RECORDREADER, MAP, REDUCE))\n",
        "max(i for ((i,k), vw) in reduce_output)"
      ],
      "execution_count": 39,
      "outputs": [
        {
          "output_type": "execute_result",
          "data": {
            "text/plain": [
              "1"
            ]
          },
          "metadata": {},
          "execution_count": 39
        }
      ]
    },
    {
      "cell_type": "markdown",
      "metadata": {
        "id": "i4yyg3kOZqJJ"
      },
      "source": [
        "Реализуйте перемножение матриц  с использованием модельного кода MapReduce для одной машины в случае, когда обе матрицы генерируются в RECORDREADER. Например, сначала одна, а потом другая."
      ]
    },
    {
      "cell_type": "code",
      "metadata": {
        "id": "3B7rIAJCaHZq",
        "colab": {
          "base_uri": "https://localhost:8080/"
        },
        "outputId": "384bd309-9576-4a33-dd4b-adb3cb1c8a4f"
      },
      "source": [
        "import numpy as np  # Импорт библиотеки numpy под псевдонимом np\n",
        "I = 2  # Задание значения переменной I равным 2\n",
        "J = 3  # Задание значения переменной J равным 3\n",
        "K = 4*10  # Задание значения переменной K равным 40\n",
        "small_mat = np.random.rand(I,J)  # Создание случайной матрицы размером IxJ\n",
        "big_mat = np.random.rand(J,K)  # Создание случайной матрицы размером JxK\n",
        "reference_solution = np.matmul(small_mat, big_mat)  # Вычисление матричного произведения small_mat и big_mat\n",
        "\n",
        "def RECORDREADER():  # Определение функции RECORDREADER без аргументов\n",
        "  for i in range(small_mat.shape[0]):  # Цикл по строкам матрицы small_mat\n",
        "    for j in range(small_mat.shape[1]):  # Цикл по столбцам матрицы small_mat\n",
        "      yield ((0, i, j), small_mat[i,j])  # Генерация кортежа для первой матрицы\n",
        "\n",
        "  for j in range(big_mat.shape[0]):  # Цикл по строкам матрицы big_mat\n",
        "    for k in range(big_mat.shape[1]):  # Цикл по столбцам матрицы big_mat\n",
        "      yield ((1, j, k), big_mat[j,k])  # Генерация кортежа для второй матрицы\n",
        "\n",
        "def MAP_JOIN(k1, v1):  # Определение функции MAP_JOIN с ключем k1 и значением v1\n",
        "  (mat_num, i, j) = k1  # Распаковка ключа\n",
        "  w = v1  # Присвоение значения из значения\n",
        "  if mat_num == 0:  # Если номер матрицы равен 0\n",
        "    yield (j, (mat_num, i, w))  # Генерация значения для первой матрицы\n",
        "  else:  # Иначе\n",
        "    yield (i, (mat_num, j, w))  # Генерация значения для второй матрицы\n",
        "\n",
        "def REDUCE_JOIN(key, values):  # Определение функции REDUCE_JOIN с ключем key и значениями values\n",
        "  from_first_mat = [v for v in values if v[0] == 0]  # Фильтрация значений для первой матрицы\n",
        "  from_second_mat = [v for v in values if v[0] == 1]  # Фильтрация значений для второй матрицы\n",
        "  for f in from_first_mat:  # Цикл по элементам из первой матрицы\n",
        "    for s in from_second_mat:  # Цикл по элементам из второй матрицы\n",
        "      yield ((f[1], s[1]), f[2] * s[2])  # Генерация умноженных значений\n",
        "\n",
        "\n",
        "def MAP_MUL(k1, v1):  # Определение функции MAP_MUL с ключем k1 и значением v1\n",
        "  (i, k) = k1  # Распаковка ключа\n",
        "  yield ((i, k), v1)  # Генерация кортежа с ключом (i, k) и значением v1\n",
        "\n",
        "def REDUCE_MUL(key, values):  # Определение функции REDUCE_MUL с ключем key и значениями values\n",
        "  res_el_value = 0  # Инициализация переменной для хранения результата\n",
        "  for v in values:  # Цикл по значениям\n",
        "    res_el_value += v  # Суммирование значений\n",
        "  yield (key, res_el_value)  # Генерация кортежа с ключом key и суммой значений\n",
        "\n",
        "def GET_JOINED():  # Определение функции GET_JOINED без аргументов\n",
        "  for j in joined:  # Цикл по элементам из joined\n",
        "    yield j  # Генерация элемента\n",
        "\n",
        "\n",
        "joined = MapReduce(RECORDREADER, MAP_JOIN, REDUCE_JOIN)  # Применение MapReduce к функциям RECORDREADER, MAP_JOIN и REDUCE_JOIN\n",
        "solution = MapReduce(GET_JOINED, MAP_MUL, REDUCE_MUL)  # Применение MapReduce к функциям GET_JOINED, MAP_MUL и REDUCE_MUL\n",
        "np.allclose(reference_solution, asmatrix(solution))  # Проверка на равенство решения с эталонным значением и вывод результата (True/False)\n",
        ""
      ],
      "execution_count": 40,
      "outputs": [
        {
          "output_type": "execute_result",
          "data": {
            "text/plain": [
              "True"
            ]
          },
          "metadata": {},
          "execution_count": 40
        }
      ]
    },
    {
      "cell_type": "markdown",
      "metadata": {
        "id": "mXyzQi1DaIwo"
      },
      "source": [
        "Реализуйте перемножение матриц с использованием модельного кода MapReduce Distributed, когда каждая матрица генерируется в своём RECORDREADER."
      ]
    },
    {
      "cell_type": "code",
      "metadata": {
        "id": "TDM_s78Rb5eR",
        "colab": {
          "base_uri": "https://localhost:8080/"
        },
        "outputId": "000fa5d6-5ca3-4d69-91d7-962242f88f62"
      },
      "source": [
        "# Определение размеров матриц\n",
        "I = 2\n",
        "J = 3\n",
        "K = 4*10\n",
        "\n",
        "# Генерация случайных матриц\n",
        "small_mat = np.random.rand(I, J)\n",
        "big_mat = np.random.rand(J, K)\n",
        "\n",
        "# Получение эталонного решения через умножение матриц\n",
        "reference_solution = np.matmul(small_mat, big_mat)\n",
        "\n",
        "# Функция для \"разглаживания\" вложенных итерируемых объектов\n",
        "def flatten(nested_iterable):\n",
        "  for iterable in nested_iterable:\n",
        "    for element in iterable:\n",
        "      yield element\n",
        "\n",
        "# Функция для группировки элементов по ключу\n",
        "def groupbykey(iterable):\n",
        "  t = {}\n",
        "  for (k2, v2) in iterable:\n",
        "    t[k2] = t.get(k2, []) + [v2]\n",
        "  return t.items()\n",
        "\n",
        "# Функция для распределенной группировки элементов по ключу\n",
        "def groupbykey_distributed(map_partitions, PARTITIONER):\n",
        "  global reducers\n",
        "  partitions = [dict() for _ in range(reducers)]\n",
        "  for map_partition in map_partitions:\n",
        "    for (k2, v2) in map_partition:\n",
        "      p = partitions[PARTITIONER(k2)]\n",
        "      p[k2] = p.get(k2, []) + [v2]\n",
        "  return [(partition_id, sorted(partition.items(), key=lambda x: x[0])) for (partition_id, partition) in enumerate(partitions)]\n",
        "\n",
        "# Функция для определения разделителя (по ключу)\n",
        "def PARTITIONER(obj):\n",
        "  global reducers\n",
        "  return hash(obj) % reducers\n",
        "\n",
        "# Функция для выполнения MapReduce на распределенных данных\n",
        "def MapReduceDistributed(INPUTFORMAT, MAP, REDUCE, PARTITIONER=PARTITIONER, COMBINER=None):\n",
        "  # Разделение данных на части и применение MAP функции\n",
        "  map_partitions = map(lambda record_reader: flatten(map(lambda k1v1: MAP(*k1v1), record_reader)), INPUTFORMAT())\n",
        "\n",
        "  # Применение COMBINER (если есть)\n",
        "  if COMBINER != None:\n",
        "    map_partitions = map(lambda map_partition: flatten(map(lambda k2v2: COMBINER(*k2v2), groupbykey(map_partition))), map_partitions)\n",
        "\n",
        "  # Распределенная группировка данных по ключу (shuffle)\n",
        "  reduce_partitions = groupbykey_distributed(map_partitions, PARTITIONER)\n",
        "\n",
        "  # Применение REDUCE функции\n",
        "  reduce_outputs = map(lambda reduce_partition: (reduce_partition[0], flatten(map(lambda reduce_input_group: REDUCE(*reduce_input_group), reduce_partition[1]))), reduce_partitions)\n",
        "\n",
        "  print(\"{} key-value pairs were sent over a network.\".format(sum([len(vs) for (k,vs) in flatten([partition for (partition_id, partition) in reduce_partitions])])))\n",
        "  return reduce_outputs\n",
        "\n",
        "# Преобразование результата REDUCE в матрицу\n",
        "def asmatrix(reduce_output):\n",
        "  reduce_output = list(reduce_output)\n",
        "  I = max(i for ((i,k), vw) in reduce_output) + 1\n",
        "  K = max(k for ((i,k), vw) in reduce_output) + 1\n",
        "  mat = np.empty(shape=(I,K))\n",
        "  for ((i,k), vw) in reduce_output:\n",
        "    mat[i,k] = vw\n",
        "  return mat\n",
        "\n",
        "# Генератор для вводных данных\n",
        "def INPUTFORMAT():\n",
        "  first_mat = []\n",
        "  for i in range(small_mat.shape[0]):\n",
        "    for j in range(small_mat.shape[1]):\n",
        "      first_mat.append(((0, i, j), small_mat[i,j])) # первая матрица\n",
        "  yield first_mat\n",
        "\n",
        "  second_mat = []\n",
        "  for j in range(big_mat.shape[0]):\n",
        "    for k in range(big_mat.shape[1]):\n",
        "      second_mat.append(((1, j, k), big_mat[j,k])) # вторая матрица\n",
        "  yield second_mat\n",
        "\n",
        "# MAP функция для соединения матриц\n",
        "def MAP_JOIN(k1, v1):\n",
        "  (mat_num, i, j) = k1\n",
        "  w = v1\n",
        "  if mat_num == 0:\n",
        "    yield (j, (mat_num, i, w))\n",
        "  else:\n",
        "    yield (i, (mat_num, j, w))\n",
        "\n",
        "# REDUCE функция для соединения матриц\n",
        "def REDUCE_JOIN(key, values):\n",
        "  from_first_mat = [v for v in values if v[0] == 0]\n",
        "  from_second_mat = [v for v in values if v[0] == 1]\n",
        "  for f in from_first_mat:\n",
        "    for s in from_second_mat:\n",
        "      yield ((f[1], s[1]), f[2] * s[2])\n",
        "\n",
        "# Генератор для получения соединенных данных\n",
        "def GET_JOINED():\n",
        "  for j in joined:\n",
        "    print(\"aa\", j)\n",
        "    yield j[1]\n",
        "\n",
        "# MAP функция для умножения значений\n",
        "def MAP_MUL(k1, v1):\n",
        "  yield (k1, v1)\n",
        "\n",
        "# REDUCE функция для умножения значений\n",
        "def REDUCE_MUL(key, values):\n",
        "  res_val = 0\n",
        "  for v in values:\n",
        "    res_val += v\n",
        "  yield (key, res_val)\n",
        "\n",
        "maps = 4\n",
        "reducers = 2\n",
        "\n",
        "# Выполнение MapReduce для соединения матриц\n",
        "partitioned_output = MapReduceDistributed(INPUTFORMAT, MAP_JOIN, REDUCE_JOIN, COMBINER=None)\n",
        "joined = [(partition_id, list(partition)) for (partition_id, partition) in partitioned_output]\n",
        "print(joined)\n",
        "\n",
        "# Выполнение MapReduce для умножения значений\n",
        "mul_output = MapReduceDistributed(GET_JOINED, MAP_MUL, REDUCE_MUL, COMBINER=None)\n",
        "pre_result = [(partition_id, list(partition)) for (partition_id, partition) in mul_output]\n",
        "print(pre_result)\n",
        "\n",
        "solution = []\n",
        "for p in pre_result:\n",
        "  for v in p[1]:\n",
        "    solution.append(v)\n",
        "\n",
        "print(solution)\n",
        "\n",
        "# Проверка результата на соответствие эталонному решению\n",
        "np.allclose(reference_solution, asmatrix(solution))"
      ],
      "execution_count": 41,
      "outputs": [
        {
          "output_type": "stream",
          "name": "stdout",
          "text": [
            "126 key-value pairs were sent over a network.\n",
            "[(0, [((0, 0), 0.5663409637196033), ((0, 1), 0.4960331222371311), ((0, 2), 0.535643439447724), ((0, 3), 0.06412624665524652), ((0, 4), 0.5660837854156591), ((0, 5), 0.44491173357994396), ((0, 6), 0.648699488243651), ((0, 7), 0.31684982286509655), ((0, 8), 0.06630933204213373), ((0, 9), 0.6255687198037236), ((0, 10), 0.4814865511568245), ((0, 11), 0.6615596720287241), ((0, 12), 0.1419321261962329), ((0, 13), 0.5699576400027143), ((0, 14), 0.6712597077906054), ((0, 15), 0.4375332453068215), ((0, 16), 0.28204612251769706), ((0, 17), 0.5416837368394638), ((0, 18), 0.6118052451608603), ((0, 19), 0.2597127202645067), ((0, 20), 0.53929699633732), ((0, 21), 0.33351407260083943), ((0, 22), 0.6274267862816264), ((0, 23), 0.7886989076324225), ((0, 24), 0.6338871420449145), ((0, 25), 0.7452674775338265), ((0, 26), 0.7868936584423095), ((0, 27), 0.17032912723329138), ((0, 28), 0.4181668191576021), ((0, 29), 0.6400402567533942), ((0, 30), 0.5582405896971873), ((0, 31), 0.8030318476936621), ((0, 32), 0.5921326908112534), ((0, 33), 0.5818950895548881), ((0, 34), 0.8356767699590117), ((0, 35), 0.2699938843216206), ((0, 36), 0.03242683130918162), ((0, 37), 0.7067668235023945), ((0, 38), 0.22614844716441812), ((0, 39), 0.4122558935993116), ((1, 0), 0.35219822461231043), ((1, 1), 0.3084749226921789), ((1, 2), 0.333107934060942), ((1, 3), 0.03987906874101887), ((1, 4), 0.35203828961226546), ((1, 5), 0.2766833634051282), ((1, 6), 0.40341565011611036), ((1, 7), 0.19704374613640427), ((1, 8), 0.04123669399981867), ((1, 9), 0.3890310018205753), ((1, 10), 0.2994286469733395), ((1, 11), 0.4114131890324958), ((1, 12), 0.08826527845249231), ((1, 13), 0.35444737670885523), ((1, 14), 0.4174454833443406), ((1, 15), 0.27209480167890443), ((1, 16), 0.1753998915372483), ((1, 17), 0.33686429666542145), ((1, 18), 0.3804717210264122), ((1, 19), 0.1615111122911463), ((1, 20), 0.3353800216061984), ((1, 21), 0.20740697173265588), ((1, 22), 0.3901865031115838), ((1, 23), 0.49047900967187763), ((1, 24), 0.39420409317826394), ((1, 25), 0.46346971041046575), ((1, 26), 0.48935635459221544), ((1, 27), 0.10592491105946303), ((1, 28), 0.2600511365658551), ((1, 29), 0.39803061503521975), ((1, 30), 0.3471607338917856), ((1, 31), 0.4993924317381341), ((1, 32), 0.3682376797696842), ((1, 33), 0.3618710822290447), ((1, 34), 0.519693777395616), ((1, 35), 0.16790480082831555), ((1, 36), 0.020165718442628933), ((1, 37), 0.4395267805061464), ((1, 38), 0.14063803731769858), ((1, 39), 0.25637522819826586), ((0, 0), 0.6403316241951559), ((0, 1), 0.17576046514651777), ((0, 2), 0.375552134559873), ((0, 3), 0.43807595891171114), ((0, 4), 0.6298677735492192), ((0, 5), 0.5855947152991903), ((0, 6), 0.020385845834171894), ((0, 7), 0.30988139249168295), ((0, 8), 0.18245153869046912), ((0, 9), 0.4439038368233334), ((0, 10), 0.6309968252385738), ((0, 11), 0.3896956988005044), ((0, 12), 0.5145068522369085), ((0, 13), 0.5521624355342577), ((0, 14), 0.08403371823093207), ((0, 15), 0.10645257144601143), ((0, 16), 0.42834318238988317), ((0, 17), 0.3626198020730461), ((0, 18), 0.5565069272561658), ((0, 19), 0.48517290611650066), ((0, 20), 0.3484598597992732), ((0, 21), 0.5421262125408064), ((0, 22), 0.21118701650240487), ((0, 23), 0.2054378359734114), ((0, 24), 0.41858681852043217), ((0, 25), 0.12056067525391892), ((0, 26), 0.1427542568868143), ((0, 27), 0.3375684399922258), ((0, 28), 0.5163558707445602), ((0, 29), 0.4964837338208777), ((0, 30), 0.14179847981381463), ((0, 31), 0.3003689563053822), ((0, 32), 0.02844779645785712), ((0, 33), 0.4621979412510744), ((0, 34), 0.15097385981520808), ((0, 35), 0.555992585435677), ((0, 36), 0.5239056603697945), ((0, 37), 0.22068570470016574), ((0, 38), 0.3760803962783539), ((0, 39), 0.4584714641036081), ((1, 0), 0.0826803436103653), ((1, 1), 0.022694390066548987), ((1, 2), 0.04849171641029711), ((1, 3), 0.05656486333278705), ((1, 4), 0.08132923937905233), ((1, 5), 0.07561265201950239), ((1, 6), 0.002632243473021986), ((1, 7), 0.04001223591271856), ((1, 8), 0.023558349050975962), ((1, 9), 0.057317365520786645), ((1, 10), 0.08147502381027893), ((1, 11), 0.0503179494231684), ((1, 12), 0.06643370673173268), ((1, 13), 0.07129583824020974), ((1, 14), 0.010850528750509656), ((1, 15), 0.013745276436137278), ((1, 16), 0.055308156219314265), ((1, 17), 0.04682187901153004), ((1, 18), 0.07185680392550013), ((1, 19), 0.06264607442834344), ((1, 20), 0.04499353124849394), ((1, 21), 0.06999994977508545), ((1, 22), 0.027268706449433574), ((1, 23), 0.026526365756495487), ((1, 24), 0.05404840348083619), ((1, 25), 0.01556693075782511), ((1, 26), 0.01843259112195111), ((1, 27), 0.04358721880346473), ((1, 28), 0.06667245409290935), ((1, 29), 0.06410654129547809), ((1, 30), 0.018309180105183277), ((1, 31), 0.03878397939260123), ((1, 32), 0.0036732116566157774), ((1, 33), 0.05967952097739195), ((1, 34), 0.01949391554945313), ((1, 35), 0.0717903915278544), ((1, 36), 0.0676472914690657), ((1, 37), 0.028495187813719958), ((1, 38), 0.04855992616091672), ((1, 39), 0.05919835403300443)]), (1, [((0, 0), 0.9443836988225014), ((0, 1), 0.0001590266024067228), ((0, 2), 0.6835676380349983), ((0, 3), 0.062344555951808725), ((0, 4), 0.5150741333587574), ((0, 5), 0.37093556710922837), ((0, 6), 0.23967717675331177), ((0, 7), 0.6445425516994541), ((0, 8), 0.8403100410005068), ((0, 9), 0.3695936575698022), ((0, 10), 0.5189154790167052), ((0, 11), 0.6867278138243459), ((0, 12), 0.09241893957805762), ((0, 13), 0.007493273306891117), ((0, 14), 0.7588156573931844), ((0, 15), 0.2524355002572471), ((0, 16), 0.48828378463214606), ((0, 17), 0.056341113030986836), ((0, 18), 0.09585623667610146), ((0, 19), 0.549040744229289), ((0, 20), 0.12889737815171845), ((0, 21), 0.8341709818566555), ((0, 22), 0.7580700085182832), ((0, 23), 0.19055745132461802), ((0, 24), 0.35047225222288436), ((0, 25), 0.8617208292299661), ((0, 26), 0.2617228646735204), ((0, 27), 0.4783239425745054), ((0, 28), 0.8890796905261129), ((0, 29), 0.7066953356239841), ((0, 30), 0.4607558344128914), ((0, 31), 0.011653742721609375), ((0, 32), 0.0475107173343376), ((0, 33), 0.19058751240567867), ((0, 34), 0.010843755776190327), ((0, 35), 0.017716966583133032), ((0, 36), 0.8753998082569439), ((0, 37), 0.9180890107311627), ((0, 38), 0.8068670499351289), ((0, 39), 0.45438784593786363), ((1, 0), 0.004543919483637854), ((1, 1), 7.651594134816309e-07), ((1, 2), 0.003288998224688046), ((1, 3), 0.0002999719741471508), ((1, 4), 0.0024782886373461567), ((1, 5), 0.0017847632828303114), ((1, 6), 0.001153211130804769), ((1, 7), 0.00310122830619853), ((1, 8), 0.0040431671706739015), ((1, 9), 0.0017783066604753507), ((1, 10), 0.0024967713424164585), ((1, 11), 0.0033042034684452617), ((1, 12), 0.00044467542242574744), ((1, 13), 3.6054021917002126e-05), ((1, 14), 0.003651055449620181), ((1, 15), 0.001214598038287786), ((1, 16), 0.0023493863832050868), ((1, 17), 0.00027108629845109297), ((1, 18), 0.0004612140404412082), ((1, 19), 0.0026417196083806985), ((1, 20), 0.0006201920985121885), ((1, 21), 0.004013628975034002), ((1, 22), 0.0036474677463859545), ((1, 23), 0.0009168706712175548), ((1, 24), 0.001686303668027757), ((1, 25), 0.004146185570840262), ((1, 26), 0.0012592843624750496), ((1, 27), 0.002301464420515454), ((1, 28), 0.0042778232336342205), ((1, 29), 0.003400277565719989), ((1, 30), 0.0022169351459570856), ((1, 31), 5.607219679463825e-05), ((1, 32), 0.00022859868763753756), ((1, 33), 0.0009170153106602951), ((1, 34), 5.217492975437596e-05), ((1, 35), 8.524550958305976e-05), ((1, 36), 0.004212002229254059), ((1, 37), 0.004417402109732112), ((1, 38), 0.0038822556059332457), ((1, 39), 0.0021862954526424526)])]\n",
            "aa (0, [((0, 0), 0.5663409637196033), ((0, 1), 0.4960331222371311), ((0, 2), 0.535643439447724), ((0, 3), 0.06412624665524652), ((0, 4), 0.5660837854156591), ((0, 5), 0.44491173357994396), ((0, 6), 0.648699488243651), ((0, 7), 0.31684982286509655), ((0, 8), 0.06630933204213373), ((0, 9), 0.6255687198037236), ((0, 10), 0.4814865511568245), ((0, 11), 0.6615596720287241), ((0, 12), 0.1419321261962329), ((0, 13), 0.5699576400027143), ((0, 14), 0.6712597077906054), ((0, 15), 0.4375332453068215), ((0, 16), 0.28204612251769706), ((0, 17), 0.5416837368394638), ((0, 18), 0.6118052451608603), ((0, 19), 0.2597127202645067), ((0, 20), 0.53929699633732), ((0, 21), 0.33351407260083943), ((0, 22), 0.6274267862816264), ((0, 23), 0.7886989076324225), ((0, 24), 0.6338871420449145), ((0, 25), 0.7452674775338265), ((0, 26), 0.7868936584423095), ((0, 27), 0.17032912723329138), ((0, 28), 0.4181668191576021), ((0, 29), 0.6400402567533942), ((0, 30), 0.5582405896971873), ((0, 31), 0.8030318476936621), ((0, 32), 0.5921326908112534), ((0, 33), 0.5818950895548881), ((0, 34), 0.8356767699590117), ((0, 35), 0.2699938843216206), ((0, 36), 0.03242683130918162), ((0, 37), 0.7067668235023945), ((0, 38), 0.22614844716441812), ((0, 39), 0.4122558935993116), ((1, 0), 0.35219822461231043), ((1, 1), 0.3084749226921789), ((1, 2), 0.333107934060942), ((1, 3), 0.03987906874101887), ((1, 4), 0.35203828961226546), ((1, 5), 0.2766833634051282), ((1, 6), 0.40341565011611036), ((1, 7), 0.19704374613640427), ((1, 8), 0.04123669399981867), ((1, 9), 0.3890310018205753), ((1, 10), 0.2994286469733395), ((1, 11), 0.4114131890324958), ((1, 12), 0.08826527845249231), ((1, 13), 0.35444737670885523), ((1, 14), 0.4174454833443406), ((1, 15), 0.27209480167890443), ((1, 16), 0.1753998915372483), ((1, 17), 0.33686429666542145), ((1, 18), 0.3804717210264122), ((1, 19), 0.1615111122911463), ((1, 20), 0.3353800216061984), ((1, 21), 0.20740697173265588), ((1, 22), 0.3901865031115838), ((1, 23), 0.49047900967187763), ((1, 24), 0.39420409317826394), ((1, 25), 0.46346971041046575), ((1, 26), 0.48935635459221544), ((1, 27), 0.10592491105946303), ((1, 28), 0.2600511365658551), ((1, 29), 0.39803061503521975), ((1, 30), 0.3471607338917856), ((1, 31), 0.4993924317381341), ((1, 32), 0.3682376797696842), ((1, 33), 0.3618710822290447), ((1, 34), 0.519693777395616), ((1, 35), 0.16790480082831555), ((1, 36), 0.020165718442628933), ((1, 37), 0.4395267805061464), ((1, 38), 0.14063803731769858), ((1, 39), 0.25637522819826586), ((0, 0), 0.6403316241951559), ((0, 1), 0.17576046514651777), ((0, 2), 0.375552134559873), ((0, 3), 0.43807595891171114), ((0, 4), 0.6298677735492192), ((0, 5), 0.5855947152991903), ((0, 6), 0.020385845834171894), ((0, 7), 0.30988139249168295), ((0, 8), 0.18245153869046912), ((0, 9), 0.4439038368233334), ((0, 10), 0.6309968252385738), ((0, 11), 0.3896956988005044), ((0, 12), 0.5145068522369085), ((0, 13), 0.5521624355342577), ((0, 14), 0.08403371823093207), ((0, 15), 0.10645257144601143), ((0, 16), 0.42834318238988317), ((0, 17), 0.3626198020730461), ((0, 18), 0.5565069272561658), ((0, 19), 0.48517290611650066), ((0, 20), 0.3484598597992732), ((0, 21), 0.5421262125408064), ((0, 22), 0.21118701650240487), ((0, 23), 0.2054378359734114), ((0, 24), 0.41858681852043217), ((0, 25), 0.12056067525391892), ((0, 26), 0.1427542568868143), ((0, 27), 0.3375684399922258), ((0, 28), 0.5163558707445602), ((0, 29), 0.4964837338208777), ((0, 30), 0.14179847981381463), ((0, 31), 0.3003689563053822), ((0, 32), 0.02844779645785712), ((0, 33), 0.4621979412510744), ((0, 34), 0.15097385981520808), ((0, 35), 0.555992585435677), ((0, 36), 0.5239056603697945), ((0, 37), 0.22068570470016574), ((0, 38), 0.3760803962783539), ((0, 39), 0.4584714641036081), ((1, 0), 0.0826803436103653), ((1, 1), 0.022694390066548987), ((1, 2), 0.04849171641029711), ((1, 3), 0.05656486333278705), ((1, 4), 0.08132923937905233), ((1, 5), 0.07561265201950239), ((1, 6), 0.002632243473021986), ((1, 7), 0.04001223591271856), ((1, 8), 0.023558349050975962), ((1, 9), 0.057317365520786645), ((1, 10), 0.08147502381027893), ((1, 11), 0.0503179494231684), ((1, 12), 0.06643370673173268), ((1, 13), 0.07129583824020974), ((1, 14), 0.010850528750509656), ((1, 15), 0.013745276436137278), ((1, 16), 0.055308156219314265), ((1, 17), 0.04682187901153004), ((1, 18), 0.07185680392550013), ((1, 19), 0.06264607442834344), ((1, 20), 0.04499353124849394), ((1, 21), 0.06999994977508545), ((1, 22), 0.027268706449433574), ((1, 23), 0.026526365756495487), ((1, 24), 0.05404840348083619), ((1, 25), 0.01556693075782511), ((1, 26), 0.01843259112195111), ((1, 27), 0.04358721880346473), ((1, 28), 0.06667245409290935), ((1, 29), 0.06410654129547809), ((1, 30), 0.018309180105183277), ((1, 31), 0.03878397939260123), ((1, 32), 0.0036732116566157774), ((1, 33), 0.05967952097739195), ((1, 34), 0.01949391554945313), ((1, 35), 0.0717903915278544), ((1, 36), 0.0676472914690657), ((1, 37), 0.028495187813719958), ((1, 38), 0.04855992616091672), ((1, 39), 0.05919835403300443)])\n",
            "aa (1, [((0, 0), 0.9443836988225014), ((0, 1), 0.0001590266024067228), ((0, 2), 0.6835676380349983), ((0, 3), 0.062344555951808725), ((0, 4), 0.5150741333587574), ((0, 5), 0.37093556710922837), ((0, 6), 0.23967717675331177), ((0, 7), 0.6445425516994541), ((0, 8), 0.8403100410005068), ((0, 9), 0.3695936575698022), ((0, 10), 0.5189154790167052), ((0, 11), 0.6867278138243459), ((0, 12), 0.09241893957805762), ((0, 13), 0.007493273306891117), ((0, 14), 0.7588156573931844), ((0, 15), 0.2524355002572471), ((0, 16), 0.48828378463214606), ((0, 17), 0.056341113030986836), ((0, 18), 0.09585623667610146), ((0, 19), 0.549040744229289), ((0, 20), 0.12889737815171845), ((0, 21), 0.8341709818566555), ((0, 22), 0.7580700085182832), ((0, 23), 0.19055745132461802), ((0, 24), 0.35047225222288436), ((0, 25), 0.8617208292299661), ((0, 26), 0.2617228646735204), ((0, 27), 0.4783239425745054), ((0, 28), 0.8890796905261129), ((0, 29), 0.7066953356239841), ((0, 30), 0.4607558344128914), ((0, 31), 0.011653742721609375), ((0, 32), 0.0475107173343376), ((0, 33), 0.19058751240567867), ((0, 34), 0.010843755776190327), ((0, 35), 0.017716966583133032), ((0, 36), 0.8753998082569439), ((0, 37), 0.9180890107311627), ((0, 38), 0.8068670499351289), ((0, 39), 0.45438784593786363), ((1, 0), 0.004543919483637854), ((1, 1), 7.651594134816309e-07), ((1, 2), 0.003288998224688046), ((1, 3), 0.0002999719741471508), ((1, 4), 0.0024782886373461567), ((1, 5), 0.0017847632828303114), ((1, 6), 0.001153211130804769), ((1, 7), 0.00310122830619853), ((1, 8), 0.0040431671706739015), ((1, 9), 0.0017783066604753507), ((1, 10), 0.0024967713424164585), ((1, 11), 0.0033042034684452617), ((1, 12), 0.00044467542242574744), ((1, 13), 3.6054021917002126e-05), ((1, 14), 0.003651055449620181), ((1, 15), 0.001214598038287786), ((1, 16), 0.0023493863832050868), ((1, 17), 0.00027108629845109297), ((1, 18), 0.0004612140404412082), ((1, 19), 0.0026417196083806985), ((1, 20), 0.0006201920985121885), ((1, 21), 0.004013628975034002), ((1, 22), 0.0036474677463859545), ((1, 23), 0.0009168706712175548), ((1, 24), 0.001686303668027757), ((1, 25), 0.004146185570840262), ((1, 26), 0.0012592843624750496), ((1, 27), 0.002301464420515454), ((1, 28), 0.0042778232336342205), ((1, 29), 0.003400277565719989), ((1, 30), 0.0022169351459570856), ((1, 31), 5.607219679463825e-05), ((1, 32), 0.00022859868763753756), ((1, 33), 0.0009170153106602951), ((1, 34), 5.217492975437596e-05), ((1, 35), 8.524550958305976e-05), ((1, 36), 0.004212002229254059), ((1, 37), 0.004417402109732112), ((1, 38), 0.0038822556059332457), ((1, 39), 0.0021862954526424526)])\n",
            "240 key-value pairs were sent over a network.\n",
            "[(0, [((0, 1), 0.6719526139860557), ((0, 2), 1.5947632120425954), ((0, 4), 1.7110256923236358), ((0, 5), 1.4014420159883625), ((0, 8), 1.0890709117331097), ((0, 9), 1.4390662141968593), ((0, 11), 1.7379831846535745), ((0, 12), 0.748857918011199), ((0, 15), 0.79642131701008), ((0, 16), 1.1986730895397262), ((0, 18), 1.2641684090931278), ((0, 19), 1.2939263706102961), ((0, 22), 1.5966838113023145), ((0, 23), 1.184694194930452), ((0, 25), 1.7275489820177115), ((0, 26), 1.1913707800026443), ((0, 29), 1.843219326198256), ((0, 32), 0.6680912046034482), ((0, 33), 1.234680543211641), ((0, 36), 1.4317322999359199), ((0, 39), 1.3251152036407834), ((1, 0), 0.4394224877063136), ((1, 1), 0.3311700779181414), ((1, 3), 0.09674390404795306), ((1, 4), 0.435845817628664), ((1, 7), 0.24015721035532134), ((1, 10), 0.38340044212603486), ((1, 11), 0.4650353419241095), ((1, 14), 0.4319470675444705), ((1, 17), 0.3839572619754026), ((1, 18), 0.45278973899235353), ((1, 21), 0.2814205504827753), ((1, 24), 0.44993880032712785), ((1, 25), 0.48318282673913115), ((1, 27), 0.1518135942834432), ((1, 28), 0.3310014138923987), ((1, 31), 0.5382324833275299), ((1, 32), 0.3721394901139375), ((1, 34), 0.5392398678748235), ((1, 35), 0.23978043786575298), ((1, 38), 0.19308021908454856), ((1, 39), 0.31775987768391273)]), (1, [((0, 0), 2.1510562867372607), ((0, 3), 0.5645467615187665), ((0, 6), 0.9087625108311347), ((0, 7), 1.2712737670562335), ((0, 10), 1.6313988554121035), ((0, 13), 1.129613348843863), ((0, 14), 1.5141090834147217), ((0, 17), 0.9606446519434968), ((0, 20), 1.0166542342883116), ((0, 21), 1.7098112669983014), ((0, 24), 1.402946212788231), ((0, 27), 0.9862215098000225), ((0, 28), 1.8236023804282753), ((0, 30), 1.1607949039238934), ((0, 31), 1.1150545467206538), ((0, 34), 0.9974943855504101), ((0, 35), 0.8437034363404307), ((0, 37), 1.8455415389337229), ((0, 38), 1.409095893377901), ((1, 2), 0.38488864869592715), ((1, 5), 0.35408077870746096), ((1, 6), 0.4072011047199371), ((1, 8), 0.06883821022146853), ((1, 9), 0.4481266740018373), ((1, 12), 0.15514366060665072), ((1, 13), 0.42577926897098195), ((1, 15), 0.28705467615332947), ((1, 16), 0.23305743413976765), ((1, 19), 0.22679890632787045), ((1, 20), 0.3809937449532045), ((1, 22), 0.42110267730740336), ((1, 23), 0.5179222460995907), ((1, 26), 0.5090482300766416), ((1, 29), 0.46553743389641783), ((1, 30), 0.367686849142926), ((1, 33), 0.4224676185170969), ((1, 36), 0.09202501214094869), ((1, 37), 0.4724393704295985)])]\n",
            "[((0, 1), 0.6719526139860557), ((0, 2), 1.5947632120425954), ((0, 4), 1.7110256923236358), ((0, 5), 1.4014420159883625), ((0, 8), 1.0890709117331097), ((0, 9), 1.4390662141968593), ((0, 11), 1.7379831846535745), ((0, 12), 0.748857918011199), ((0, 15), 0.79642131701008), ((0, 16), 1.1986730895397262), ((0, 18), 1.2641684090931278), ((0, 19), 1.2939263706102961), ((0, 22), 1.5966838113023145), ((0, 23), 1.184694194930452), ((0, 25), 1.7275489820177115), ((0, 26), 1.1913707800026443), ((0, 29), 1.843219326198256), ((0, 32), 0.6680912046034482), ((0, 33), 1.234680543211641), ((0, 36), 1.4317322999359199), ((0, 39), 1.3251152036407834), ((1, 0), 0.4394224877063136), ((1, 1), 0.3311700779181414), ((1, 3), 0.09674390404795306), ((1, 4), 0.435845817628664), ((1, 7), 0.24015721035532134), ((1, 10), 0.38340044212603486), ((1, 11), 0.4650353419241095), ((1, 14), 0.4319470675444705), ((1, 17), 0.3839572619754026), ((1, 18), 0.45278973899235353), ((1, 21), 0.2814205504827753), ((1, 24), 0.44993880032712785), ((1, 25), 0.48318282673913115), ((1, 27), 0.1518135942834432), ((1, 28), 0.3310014138923987), ((1, 31), 0.5382324833275299), ((1, 32), 0.3721394901139375), ((1, 34), 0.5392398678748235), ((1, 35), 0.23978043786575298), ((1, 38), 0.19308021908454856), ((1, 39), 0.31775987768391273), ((0, 0), 2.1510562867372607), ((0, 3), 0.5645467615187665), ((0, 6), 0.9087625108311347), ((0, 7), 1.2712737670562335), ((0, 10), 1.6313988554121035), ((0, 13), 1.129613348843863), ((0, 14), 1.5141090834147217), ((0, 17), 0.9606446519434968), ((0, 20), 1.0166542342883116), ((0, 21), 1.7098112669983014), ((0, 24), 1.402946212788231), ((0, 27), 0.9862215098000225), ((0, 28), 1.8236023804282753), ((0, 30), 1.1607949039238934), ((0, 31), 1.1150545467206538), ((0, 34), 0.9974943855504101), ((0, 35), 0.8437034363404307), ((0, 37), 1.8455415389337229), ((0, 38), 1.409095893377901), ((1, 2), 0.38488864869592715), ((1, 5), 0.35408077870746096), ((1, 6), 0.4072011047199371), ((1, 8), 0.06883821022146853), ((1, 9), 0.4481266740018373), ((1, 12), 0.15514366060665072), ((1, 13), 0.42577926897098195), ((1, 15), 0.28705467615332947), ((1, 16), 0.23305743413976765), ((1, 19), 0.22679890632787045), ((1, 20), 0.3809937449532045), ((1, 22), 0.42110267730740336), ((1, 23), 0.5179222460995907), ((1, 26), 0.5090482300766416), ((1, 29), 0.46553743389641783), ((1, 30), 0.367686849142926), ((1, 33), 0.4224676185170969), ((1, 36), 0.09202501214094869), ((1, 37), 0.4724393704295985)]\n"
          ]
        },
        {
          "output_type": "execute_result",
          "data": {
            "text/plain": [
              "True"
            ]
          },
          "metadata": {},
          "execution_count": 41
        }
      ]
    },
    {
      "cell_type": "markdown",
      "metadata": {
        "id": "ZuSA2P9Db6UM"
      },
      "source": [
        "Обобщите предыдущее решение на случай, когда каждая матрица генерируется несколькими RECORDREADER-ами, и проверьте его работоспособность. Будет ли работать решение, если RECORDREADER-ы будут генерировать случайное подмножество элементов матрицы?"
      ]
    },
    {
      "cell_type": "code",
      "metadata": {
        "id": "ehN0FqRDcwU5",
        "colab": {
          "base_uri": "https://localhost:8080/"
        },
        "outputId": "11dcb75b-7094-4028-eed8-dc96cbc6243d"
      },
      "source": [
        "# Определение размеров матриц\n",
        "I = 2  # Количество строк первой матрицы и строк в итоговой матрице\n",
        "J = 3  # Количество столбцов первой матрицы и строк второй матрицы\n",
        "K = 4*10  # Количество столбцов второй матрицы и столбцов в итоговой матрице\n",
        "\n",
        "# Генерация случайных матриц\n",
        "small_mat = np.random.rand(I, J)  # Генерация первой матрицы\n",
        "big_mat = np.random.rand(J, K)  # Генерация второй матрицы\n",
        "\n",
        "# Получение эталонного решения через умножение матриц\n",
        "reference_solution = np.matmul(small_mat, big_mat)\n",
        "\n",
        "# Функция для \"разглаживания\" вложенных итерируемых объектов\n",
        "def flatten(nested_iterable):\n",
        "  for iterable in nested_iterable:\n",
        "    for element in iterable:\n",
        "      yield element\n",
        "\n",
        "# Функция для группировки элементов по ключу\n",
        "def groupbykey(iterable):\n",
        "  t = {}\n",
        "  for (k2, v2) in iterable:\n",
        "    t[k2] = t.get(k2, []) + [v2]\n",
        "  return t.items()\n",
        "\n",
        "# Функция для распределенной группировки элементов по ключу\n",
        "def groupbykey_distributed(map_partitions, PARTITIONER):\n",
        "  global reducers\n",
        "  partitions = [dict() for _ in range(reducers)]\n",
        "  for map_partition in map_partitions:\n",
        "    for (k2, v2) in map_partition:\n",
        "      p = partitions[PARTITIONER(k2)]\n",
        "      p[k2] = p.get(k2, []) + [v2]\n",
        "  return [(partition_id, sorted(partition.items(), key=lambda x: x[0])) for (partition_id, partition) in enumerate(partitions)]\n",
        "\n",
        "# Функция для определения разделителя (по ключу)\n",
        "def PARTITIONER(obj):\n",
        "  global reducers\n",
        "  return hash(obj) % reducers\n",
        "\n",
        "# Функция для выполнения MapReduce на распределенных данных\n",
        "def MapReduceDistributed(INPUTFORMAT, MAP, REDUCE, PARTITIONER=PARTITIONER, COMBINER=None):\n",
        "  map_partitions = map(lambda record_reader: flatten(map(lambda k1v1: MAP(*k1v1), record_reader)), INPUTFORMAT())\n",
        "\n",
        "  if COMBINER != None:\n",
        "    map_partitions = map(lambda map_partition: flatten(map(lambda k2v2: COMBINER(*k2v2), groupbykey(map_partition))), map_partitions)\n",
        "\n",
        "  reduce_partitions = groupbykey_distributed(map_partitions, PARTITIONER)  # shuffle\n",
        "\n",
        "  reduce_outputs = map(lambda reduce_partition: (reduce_partition[0], flatten(map(lambda reduce_input_group: REDUCE(*reduce_input_group), reduce_partition[1]))), reduce_partitions)\n",
        "\n",
        "  print(\"{} key-value pairs were sent over a network.\".format(sum([len(vs) for (k,vs) in flatten([partition for (partition_id, partition) in reduce_partitions])])))\n",
        "  return reduce_outputs\n",
        "\n",
        "# Функция для преобразования результата REDUCE в матрицу\n",
        "def asmatrix(reduce_output):\n",
        "  reduce_output = list(reduce_output)\n",
        "  I = max(i for ((i,k), vw) in reduce_output) + 1\n",
        "  K = max(k for ((i,k), vw) in reduce_output) + 1\n",
        "  mat = np.empty(shape=(I,K))\n",
        "  for ((i,k), vw) in reduce_output:\n",
        "    mat[i,k] = vw\n",
        "  return mat\n",
        "\n",
        "# Генератор для вводных данных\n",
        "def INPUTFORMAT():\n",
        "  first_mat = []\n",
        "\n",
        "  for i in range(small_mat.shape[0]):\n",
        "    for j in range(small_mat.shape[1]):\n",
        "      first_mat.append(((0, i, j), small_mat[i,j]))  # первая матрица\n",
        "\n",
        "  global maps\n",
        "  split_size = int(np.ceil(len(first_mat)/maps))\n",
        "\n",
        "  for i in range(0, len(first_mat), split_size):\n",
        "    yield first_mat[i:i+split_size]\n",
        "\n",
        "  second_mat = []\n",
        "\n",
        "  for j in range(big_mat.shape[0]):\n",
        "    for k in range(big_mat.shape[1]):\n",
        "      second_mat.append(((1, j, k), big_mat[j,k]))  # вторая матрица\n",
        "\n",
        "  split_size = int(np.ceil(len(second_mat)/maps))\n",
        "\n",
        "  for i in range(0, len(second_mat), split_size):\n",
        "    yield second_mat[i:i+split_size]\n",
        "\n",
        "# MAP функция для соединения матриц\n",
        "def MAP_JOIN(k1, v1):\n",
        "  (mat_num, i, j) = k1\n",
        "  w = v1\n",
        "\n",
        "  if mat_num == 0:\n",
        "    yield (j, (mat_num, i, w))\n",
        "\n",
        "  else:\n",
        "    yield (i, (mat_num, j, w))\n",
        "\n",
        "# REDUCE функция для соединения матриц\n",
        "def REDUCE_JOIN(key, values):\n",
        "  from_first_mat = [v for v in values if v[0] == 0]\n",
        "  from_second_mat = [v for v in values if v[0] == 1]\n",
        "\n",
        "  for f in from_first_mat:\n",
        "    for s in from_second_mat:\n",
        "      yield ((f[1], s[1]), f[2] * s[2])\n",
        "\n",
        "# Генератор для получения соединенных данных\n",
        "def GET_JOINED():\n",
        "\n",
        "  for j in joined:\n",
        "    print(\"aa\", j)\n",
        "    yield j[1]\n",
        "\n",
        "# MAP функция для умножения значений\n",
        "def MAP_MUL(k1, v1):\n",
        "  yield (k1, v1)\n",
        "\n",
        "# REDUCE функция для умножения значений\n",
        "def REDUCE_MUL(key, values):\n",
        "  res_val = 0\n",
        "\n",
        "  for v in values:\n",
        "    res_val += v\n",
        "  yield (key, res_val)\n",
        "\n",
        "maps = 3\n",
        "reducers = 2\n",
        "\n",
        "# Выполнение MapReduce для соединения матриц\n",
        "partitioned_output = MapReduceDistributed(INPUTFORMAT, MAP_JOIN, REDUCE_JOIN, COMBINER=None)\n",
        "joined = [(partition_id, list(partition)) for (partition_id, partition) in partitioned_output]\n",
        "print(joined)\n",
        "\n",
        "# Выполнение MapReduce для умножения значений\n",
        "mul_output = MapReduceDistributed(GET_JOINED, MAP_MUL, REDUCE_MUL, COMBINER=None)\n",
        "pre_result = [(partition_id, list(partition)) for (partition_id, partition) in mul_output]\n",
        "print(pre_result)\n",
        "\n",
        "solution = []\n",
        "\n",
        "for p in pre_result:\n",
        "\n",
        "  for v in p[1]:\n",
        "    solution.append(v)\n",
        "\n",
        "print(solution)\n",
        "\n",
        "np.allclose(reference_solution, asmatrix(solution))"
      ],
      "execution_count": 42,
      "outputs": [
        {
          "output_type": "stream",
          "name": "stdout",
          "text": [
            "126 key-value pairs were sent over a network.\n",
            "[(0, [((0, 0), 0.19625370466672884), ((0, 1), 0.5161318546333956), ((0, 2), 0.2767143986332856), ((0, 3), 0.5363602088230293), ((0, 4), 0.2597487999447544), ((0, 5), 0.059498429890318935), ((0, 6), 0.25151001272451734), ((0, 7), 0.06114272641900986), ((0, 8), 0.49800547703007747), ((0, 9), 0.18317243254543147), ((0, 10), 0.3136806021143372), ((0, 11), 0.3788899596706355), ((0, 12), 0.40642157354152897), ((0, 13), 0.5008893848817535), ((0, 14), 0.5428256978767624), ((0, 15), 0.29182206999924154), ((0, 16), 0.03004230240527001), ((0, 17), 0.196036178842705), ((0, 18), 0.25130221632456884), ((0, 19), 0.16486943577325547), ((0, 20), 0.23264934162837017), ((0, 21), 0.26912711194762345), ((0, 22), 0.19134856151733204), ((0, 23), 0.30862051424780745), ((0, 24), 0.2524409732336972), ((0, 25), 0.26884138359016674), ((0, 26), 0.3616982138868891), ((0, 27), 0.03902982752262633), ((0, 28), 0.16447171309457276), ((0, 29), 0.05398367288952082), ((0, 30), 0.10143964566784984), ((0, 31), 0.04491052471795121), ((0, 32), 0.4072694349627483), ((0, 33), 0.1594567312286913), ((0, 34), 0.31648816634791593), ((0, 35), 0.38823805421905816), ((0, 36), 0.02936408305981258), ((0, 37), 0.2210699833028755), ((0, 38), 0.15247843481459275), ((0, 39), 0.5231054565359182), ((1, 0), 0.22328056314285755), ((1, 1), 0.5872103731963294), ((1, 2), 0.3148218111933133), ((1, 3), 0.6102244524596202), ((1, 4), 0.29551981413973527), ((1, 5), 0.06769218932496633), ((1, 6), 0.2861464315925238), ((1, 7), 0.06956292830298165), ((1, 8), 0.5665877418636782), ((1, 9), 0.20839781832625276), ((1, 10), 0.3568787738606883), ((1, 11), 0.4310683648397706), ((1, 12), 0.46239146398719255), ((1, 13), 0.5698688038455032), ((1, 14), 0.6175803290753663), ((1, 15), 0.3320100185501945), ((1, 16), 0.03417954433292236), ((1, 17), 0.22303308099433636), ((1, 18), 0.28591001874478494), ((1, 19), 0.18757424491431002), ((1, 20), 0.2646883843635489), ((1, 21), 0.30618964984493113), ((1, 22), 0.21769991371484537), ((1, 23), 0.35112184167788074), ((1, 24), 0.2872055982824287), ((1, 25), 0.30586457272770085), ((1, 26), 0.4115090770978027), ((1, 27), 0.04440477637565842), ((1, 28), 0.1871217503037152), ((1, 29), 0.06141797375881825), ((1, 30), 0.11540929251853883), ((1, 31), 0.05109532717914277), ((1, 32), 0.46335608769158804), ((1, 33), 0.18141613584376529), ((1, 34), 0.3600729786488106), ((1, 35), 0.4417038217277259), ((1, 36), 0.03340792477218452), ((1, 37), 0.2515143877139575), ((1, 38), 0.17347683117808443), ((1, 39), 0.5951443368510462), ((0, 0), 0.016316107280398107), ((0, 1), 0.1733545015766995), ((0, 2), 0.2585097742164558), ((0, 3), 0.19319532623285104), ((0, 4), 0.014428166096884437), ((0, 5), 0.06959197551639669), ((0, 6), 0.12791017139535607), ((0, 7), 0.13542012187009303), ((0, 8), 0.11832858824650894), ((0, 9), 0.20019012966343194), ((0, 10), 0.23868697245374043), ((0, 11), 0.10317942952903078), ((0, 12), 0.09522286713851978), ((0, 13), 0.06882830297881347), ((0, 14), 0.14270935885042707), ((0, 15), 0.19737942673716824), ((0, 16), 0.13929957220321992), ((0, 17), 0.08099102219957284), ((0, 18), 0.07192685589640332), ((0, 19), 0.22291549797848045), ((0, 20), 0.10426126180995102), ((0, 21), 0.061705779178984524), ((0, 22), 0.18142994920851924), ((0, 23), 0.11769799673339493), ((0, 24), 0.026593454830803186), ((0, 25), 0.19678845464189623), ((0, 26), 0.022532267773395148), ((0, 27), 0.11635512365685702), ((0, 28), 0.04060841516895963), ((0, 29), 0.046606067900913616), ((0, 30), 0.010511437452926663), ((0, 31), 0.25541450304243735), ((0, 32), 0.1792438303586334), ((0, 33), 0.12452145963063835), ((0, 34), 0.0279096190479577), ((0, 35), 0.22230518518006823), ((0, 36), 0.2568441081972516), ((0, 37), 0.18713499206301396), ((0, 38), 0.1044235849811995), ((0, 39), 0.22938050674117125), ((1, 0), 0.023775967402084684), ((1, 1), 0.2526136233146708), ((1, 2), 0.37670259573953707), ((1, 3), 0.2815258382289397), ((1, 4), 0.02102484378755676), ((1, 5), 0.10141000625267715), ((1, 6), 0.18639176693479345), ((1, 7), 0.19733532930601733), ((1, 8), 0.17242940417924563), ((1, 9), 0.29171872403751004), ((1, 10), 0.34781664393566974), ((1, 11), 0.1503539239408625), ((1, 12), 0.13875955496679268), ((1, 13), 0.10029717627139481), ((1, 14), 0.20795726613519608), ((1, 15), 0.2876229443271085), ((1, 16), 0.20298849663774016), ((1, 17), 0.11802079200545536), ((1, 18), 0.1048124133862401), ((1, 19), 0.3248343199926856), ((1, 20), 0.15193037894962455), ((1, 21), 0.0899181752771593), ((1, 22), 0.2643812328523977), ((1, 23), 0.17151050097505782), ((1, 24), 0.03875220383759088), ((1, 25), 0.28676177486853244), ((1, 26), 0.032834208237825145), ((1, 27), 0.16955365514509319), ((1, 28), 0.059174920752540404), ((1, 29), 0.06791475025925608), ((1, 30), 0.01531735419085443), ((1, 31), 0.37219214080875285), ((1, 32), 0.26119560225934485), ((1, 33), 0.18145370793160312), ((1, 34), 0.04067012929524284), ((1, 35), 0.3239449671004331), ((1, 36), 0.3742753733454469), ((1, 37), 0.2726946688089583), ((1, 38), 0.15216691762652104), ((1, 39), 0.3342551845993185)]), (1, [((0, 0), 0.434491797346467), ((0, 1), 0.05730435731609006), ((0, 2), 0.24468027794264952), ((0, 3), 0.1731060688232701), ((0, 4), 0.5585586868742215), ((0, 5), 0.3562835448811221), ((0, 6), 0.261482811003004), ((0, 7), 0.17632022787418428), ((0, 8), 0.23634623272154262), ((0, 9), 0.4568584357107696), ((0, 10), 0.10818657201222401), ((0, 11), 0.05471542554995401), ((0, 12), 0.810499718891723), ((0, 13), 0.3786896260709204), ((0, 14), 0.008732263587869375), ((0, 15), 0.20930600498975654), ((0, 16), 0.5484553884573824), ((0, 17), 0.13835072156986353), ((0, 18), 0.39259718123794546), ((0, 19), 0.39396136354565137), ((0, 20), 0.10135438358293943), ((0, 21), 0.6946213144230731), ((0, 22), 0.058644213043497734), ((0, 23), 0.6093394471366265), ((0, 24), 0.6032323129038685), ((0, 25), 0.10382836359050086), ((0, 26), 0.2708606517057783), ((0, 27), 0.16593016488980353), ((0, 28), 0.47231611071070606), ((0, 29), 0.19770841314677462), ((0, 30), 0.07584579552187896), ((0, 31), 0.32269070054308563), ((0, 32), 0.2576760530446546), ((0, 33), 0.3436834449953283), ((0, 34), 0.6185751965992963), ((0, 35), 0.24852686553678505), ((0, 36), 0.41201820880054374), ((0, 37), 0.004154466383684084), ((0, 38), 0.40078891767874936), ((0, 39), 0.17828839580977998), ((1, 0), 0.2677574995173694), ((1, 1), 0.03531406466154984), ((1, 2), 0.1507853078084617), ((1, 3), 0.10667738360648558), ((1, 4), 0.34421427111980196), ((1, 5), 0.21956131664433465), ((1, 6), 0.16113994342016902), ((1, 7), 0.1086581233943938), ((1, 8), 0.14564941543282534), ((1, 9), 0.2815410397305794), ((1, 10), 0.06667045541540985), ((1, 11), 0.03371862396426804), ((1, 12), 0.4994740508689679), ((1, 13), 0.233369163673906), ((1, 14), 0.005381296212480705), ((1, 15), 0.12898575501838058), ((1, 16), 0.33798806860575664), ((1, 17), 0.08525924652711205), ((1, 18), 0.24193975630342135), ((1, 19), 0.24278043970832786), ((1, 20), 0.06246008895687348), ((1, 21), 0.4280634695459639), ((1, 22), 0.036139756703323034), ((1, 23), 0.3755081401283583), ((1, 24), 0.37174459153810435), ((1, 25), 0.06398469012247936), ((1, 26), 0.16691907939645714), ((1, 27), 0.10225520094219531), ((1, 28), 0.2910669005905826), ((1, 29), 0.1218386875449211), ((1, 30), 0.046740308290906654), ((1, 31), 0.1988595771487639), ((1, 32), 0.1587940119240614), ((1, 33), 0.211796449137759), ((1, 34), 0.38119971174696227), ((1, 35), 0.15315578449448983), ((1, 36), 0.25390805077981304), ((1, 37), 0.002560208357252809), ((1, 38), 0.24698795026126016), ((1, 39), 0.10987101562454366)])]\n",
            "aa (0, [((0, 0), 0.19625370466672884), ((0, 1), 0.5161318546333956), ((0, 2), 0.2767143986332856), ((0, 3), 0.5363602088230293), ((0, 4), 0.2597487999447544), ((0, 5), 0.059498429890318935), ((0, 6), 0.25151001272451734), ((0, 7), 0.06114272641900986), ((0, 8), 0.49800547703007747), ((0, 9), 0.18317243254543147), ((0, 10), 0.3136806021143372), ((0, 11), 0.3788899596706355), ((0, 12), 0.40642157354152897), ((0, 13), 0.5008893848817535), ((0, 14), 0.5428256978767624), ((0, 15), 0.29182206999924154), ((0, 16), 0.03004230240527001), ((0, 17), 0.196036178842705), ((0, 18), 0.25130221632456884), ((0, 19), 0.16486943577325547), ((0, 20), 0.23264934162837017), ((0, 21), 0.26912711194762345), ((0, 22), 0.19134856151733204), ((0, 23), 0.30862051424780745), ((0, 24), 0.2524409732336972), ((0, 25), 0.26884138359016674), ((0, 26), 0.3616982138868891), ((0, 27), 0.03902982752262633), ((0, 28), 0.16447171309457276), ((0, 29), 0.05398367288952082), ((0, 30), 0.10143964566784984), ((0, 31), 0.04491052471795121), ((0, 32), 0.4072694349627483), ((0, 33), 0.1594567312286913), ((0, 34), 0.31648816634791593), ((0, 35), 0.38823805421905816), ((0, 36), 0.02936408305981258), ((0, 37), 0.2210699833028755), ((0, 38), 0.15247843481459275), ((0, 39), 0.5231054565359182), ((1, 0), 0.22328056314285755), ((1, 1), 0.5872103731963294), ((1, 2), 0.3148218111933133), ((1, 3), 0.6102244524596202), ((1, 4), 0.29551981413973527), ((1, 5), 0.06769218932496633), ((1, 6), 0.2861464315925238), ((1, 7), 0.06956292830298165), ((1, 8), 0.5665877418636782), ((1, 9), 0.20839781832625276), ((1, 10), 0.3568787738606883), ((1, 11), 0.4310683648397706), ((1, 12), 0.46239146398719255), ((1, 13), 0.5698688038455032), ((1, 14), 0.6175803290753663), ((1, 15), 0.3320100185501945), ((1, 16), 0.03417954433292236), ((1, 17), 0.22303308099433636), ((1, 18), 0.28591001874478494), ((1, 19), 0.18757424491431002), ((1, 20), 0.2646883843635489), ((1, 21), 0.30618964984493113), ((1, 22), 0.21769991371484537), ((1, 23), 0.35112184167788074), ((1, 24), 0.2872055982824287), ((1, 25), 0.30586457272770085), ((1, 26), 0.4115090770978027), ((1, 27), 0.04440477637565842), ((1, 28), 0.1871217503037152), ((1, 29), 0.06141797375881825), ((1, 30), 0.11540929251853883), ((1, 31), 0.05109532717914277), ((1, 32), 0.46335608769158804), ((1, 33), 0.18141613584376529), ((1, 34), 0.3600729786488106), ((1, 35), 0.4417038217277259), ((1, 36), 0.03340792477218452), ((1, 37), 0.2515143877139575), ((1, 38), 0.17347683117808443), ((1, 39), 0.5951443368510462), ((0, 0), 0.016316107280398107), ((0, 1), 0.1733545015766995), ((0, 2), 0.2585097742164558), ((0, 3), 0.19319532623285104), ((0, 4), 0.014428166096884437), ((0, 5), 0.06959197551639669), ((0, 6), 0.12791017139535607), ((0, 7), 0.13542012187009303), ((0, 8), 0.11832858824650894), ((0, 9), 0.20019012966343194), ((0, 10), 0.23868697245374043), ((0, 11), 0.10317942952903078), ((0, 12), 0.09522286713851978), ((0, 13), 0.06882830297881347), ((0, 14), 0.14270935885042707), ((0, 15), 0.19737942673716824), ((0, 16), 0.13929957220321992), ((0, 17), 0.08099102219957284), ((0, 18), 0.07192685589640332), ((0, 19), 0.22291549797848045), ((0, 20), 0.10426126180995102), ((0, 21), 0.061705779178984524), ((0, 22), 0.18142994920851924), ((0, 23), 0.11769799673339493), ((0, 24), 0.026593454830803186), ((0, 25), 0.19678845464189623), ((0, 26), 0.022532267773395148), ((0, 27), 0.11635512365685702), ((0, 28), 0.04060841516895963), ((0, 29), 0.046606067900913616), ((0, 30), 0.010511437452926663), ((0, 31), 0.25541450304243735), ((0, 32), 0.1792438303586334), ((0, 33), 0.12452145963063835), ((0, 34), 0.0279096190479577), ((0, 35), 0.22230518518006823), ((0, 36), 0.2568441081972516), ((0, 37), 0.18713499206301396), ((0, 38), 0.1044235849811995), ((0, 39), 0.22938050674117125), ((1, 0), 0.023775967402084684), ((1, 1), 0.2526136233146708), ((1, 2), 0.37670259573953707), ((1, 3), 0.2815258382289397), ((1, 4), 0.02102484378755676), ((1, 5), 0.10141000625267715), ((1, 6), 0.18639176693479345), ((1, 7), 0.19733532930601733), ((1, 8), 0.17242940417924563), ((1, 9), 0.29171872403751004), ((1, 10), 0.34781664393566974), ((1, 11), 0.1503539239408625), ((1, 12), 0.13875955496679268), ((1, 13), 0.10029717627139481), ((1, 14), 0.20795726613519608), ((1, 15), 0.2876229443271085), ((1, 16), 0.20298849663774016), ((1, 17), 0.11802079200545536), ((1, 18), 0.1048124133862401), ((1, 19), 0.3248343199926856), ((1, 20), 0.15193037894962455), ((1, 21), 0.0899181752771593), ((1, 22), 0.2643812328523977), ((1, 23), 0.17151050097505782), ((1, 24), 0.03875220383759088), ((1, 25), 0.28676177486853244), ((1, 26), 0.032834208237825145), ((1, 27), 0.16955365514509319), ((1, 28), 0.059174920752540404), ((1, 29), 0.06791475025925608), ((1, 30), 0.01531735419085443), ((1, 31), 0.37219214080875285), ((1, 32), 0.26119560225934485), ((1, 33), 0.18145370793160312), ((1, 34), 0.04067012929524284), ((1, 35), 0.3239449671004331), ((1, 36), 0.3742753733454469), ((1, 37), 0.2726946688089583), ((1, 38), 0.15216691762652104), ((1, 39), 0.3342551845993185)])\n",
            "aa (1, [((0, 0), 0.434491797346467), ((0, 1), 0.05730435731609006), ((0, 2), 0.24468027794264952), ((0, 3), 0.1731060688232701), ((0, 4), 0.5585586868742215), ((0, 5), 0.3562835448811221), ((0, 6), 0.261482811003004), ((0, 7), 0.17632022787418428), ((0, 8), 0.23634623272154262), ((0, 9), 0.4568584357107696), ((0, 10), 0.10818657201222401), ((0, 11), 0.05471542554995401), ((0, 12), 0.810499718891723), ((0, 13), 0.3786896260709204), ((0, 14), 0.008732263587869375), ((0, 15), 0.20930600498975654), ((0, 16), 0.5484553884573824), ((0, 17), 0.13835072156986353), ((0, 18), 0.39259718123794546), ((0, 19), 0.39396136354565137), ((0, 20), 0.10135438358293943), ((0, 21), 0.6946213144230731), ((0, 22), 0.058644213043497734), ((0, 23), 0.6093394471366265), ((0, 24), 0.6032323129038685), ((0, 25), 0.10382836359050086), ((0, 26), 0.2708606517057783), ((0, 27), 0.16593016488980353), ((0, 28), 0.47231611071070606), ((0, 29), 0.19770841314677462), ((0, 30), 0.07584579552187896), ((0, 31), 0.32269070054308563), ((0, 32), 0.2576760530446546), ((0, 33), 0.3436834449953283), ((0, 34), 0.6185751965992963), ((0, 35), 0.24852686553678505), ((0, 36), 0.41201820880054374), ((0, 37), 0.004154466383684084), ((0, 38), 0.40078891767874936), ((0, 39), 0.17828839580977998), ((1, 0), 0.2677574995173694), ((1, 1), 0.03531406466154984), ((1, 2), 0.1507853078084617), ((1, 3), 0.10667738360648558), ((1, 4), 0.34421427111980196), ((1, 5), 0.21956131664433465), ((1, 6), 0.16113994342016902), ((1, 7), 0.1086581233943938), ((1, 8), 0.14564941543282534), ((1, 9), 0.2815410397305794), ((1, 10), 0.06667045541540985), ((1, 11), 0.03371862396426804), ((1, 12), 0.4994740508689679), ((1, 13), 0.233369163673906), ((1, 14), 0.005381296212480705), ((1, 15), 0.12898575501838058), ((1, 16), 0.33798806860575664), ((1, 17), 0.08525924652711205), ((1, 18), 0.24193975630342135), ((1, 19), 0.24278043970832786), ((1, 20), 0.06246008895687348), ((1, 21), 0.4280634695459639), ((1, 22), 0.036139756703323034), ((1, 23), 0.3755081401283583), ((1, 24), 0.37174459153810435), ((1, 25), 0.06398469012247936), ((1, 26), 0.16691907939645714), ((1, 27), 0.10225520094219531), ((1, 28), 0.2910669005905826), ((1, 29), 0.1218386875449211), ((1, 30), 0.046740308290906654), ((1, 31), 0.1988595771487639), ((1, 32), 0.1587940119240614), ((1, 33), 0.211796449137759), ((1, 34), 0.38119971174696227), ((1, 35), 0.15315578449448983), ((1, 36), 0.25390805077981304), ((1, 37), 0.002560208357252809), ((1, 38), 0.24698795026126016), ((1, 39), 0.10987101562454366)])\n",
            "240 key-value pairs were sent over a network.\n",
            "[(0, [((0, 1), 0.7467907135261852), ((0, 2), 0.7799044507923909), ((0, 4), 0.8327356529158604), ((0, 5), 0.48537395028783775), ((0, 8), 0.852680297998129), ((0, 9), 0.8402209979196331), ((0, 11), 0.5367848147496203), ((0, 12), 1.3121441595717718), ((0, 15), 0.6985075017261664), ((0, 16), 0.7177972630658723), ((0, 18), 0.7158262534589177), ((0, 19), 0.7817462972973873), ((0, 22), 0.431422723769349), ((0, 23), 1.035657958117829), ((0, 25), 0.5694582018225638), ((0, 26), 0.6550911333660625), ((0, 29), 0.29829815393720904), ((0, 32), 0.8441893183660363), ((0, 33), 0.627661635854658), ((0, 36), 0.6982264000576079), ((0, 39), 0.9307743590868695), ((1, 0), 0.5148140300623116), ((1, 1), 0.87513806117255), ((1, 3), 0.9984276742950455), ((1, 4), 0.660758929047094), ((1, 7), 0.3755563810033928), ((1, 10), 0.7713658732117679), ((1, 11), 0.6151409127449011), ((1, 14), 0.8309188914230431), ((1, 17), 0.42631311952690376), ((1, 18), 0.6326621884344463), ((1, 21), 0.8241712946680544), ((1, 24), 0.6977023936581239), ((1, 25), 0.6566110377187125), ((1, 27), 0.3162136324629469), ((1, 28), 0.5373635716468382), ((1, 31), 0.6221470451366595), ((1, 32), 0.8833457018749943), ((1, 34), 0.7819428196910156), ((1, 35), 0.9188045733226488), ((1, 38), 0.5726316990658656), ((1, 39), 1.0392705370749085)]), (1, [((0, 0), 0.6470616092935939), ((0, 3), 0.9026616038791504), ((0, 6), 0.6409029951228775), ((0, 7), 0.3728830761632872), ((0, 10), 0.6605541465803016), ((0, 13), 0.9484073139314874), ((0, 14), 0.6942673203150588), ((0, 17), 0.41537792261214135), ((0, 20), 0.4382649870212606), ((0, 21), 1.0254542055496811), ((0, 24), 0.8822667409683689), ((0, 27), 0.32131511606928687), ((0, 28), 0.6773962389742385), ((0, 30), 0.18779687864265548), ((0, 31), 0.6230157283034742), ((0, 34), 0.9629729819951699), ((0, 35), 0.8590701049359114), ((0, 37), 0.41235944174957356), ((0, 38), 0.6576909374745417), ((1, 2), 0.842309714741312), ((1, 5), 0.38866351222197815), ((1, 6), 0.6336781419474863), ((1, 8), 0.8846665614757492), ((1, 9), 0.7816575820943422), ((1, 12), 1.1006250698229532), ((1, 13), 0.903535143790804), ((1, 15), 0.7486187178956836), ((1, 16), 0.5751561095764192), ((1, 19), 0.7551890046153235), ((1, 20), 0.479078852270047), ((1, 22), 0.518220903270566), ((1, 23), 0.8981404827812969), ((1, 26), 0.611262364732085), ((1, 29), 0.25117141156299544), ((1, 30), 0.1774669550002999), ((1, 33), 0.5746662929131274), ((1, 36), 0.6615913488974445), ((1, 37), 0.5267692648801686)])]\n",
            "[((0, 1), 0.7467907135261852), ((0, 2), 0.7799044507923909), ((0, 4), 0.8327356529158604), ((0, 5), 0.48537395028783775), ((0, 8), 0.852680297998129), ((0, 9), 0.8402209979196331), ((0, 11), 0.5367848147496203), ((0, 12), 1.3121441595717718), ((0, 15), 0.6985075017261664), ((0, 16), 0.7177972630658723), ((0, 18), 0.7158262534589177), ((0, 19), 0.7817462972973873), ((0, 22), 0.431422723769349), ((0, 23), 1.035657958117829), ((0, 25), 0.5694582018225638), ((0, 26), 0.6550911333660625), ((0, 29), 0.29829815393720904), ((0, 32), 0.8441893183660363), ((0, 33), 0.627661635854658), ((0, 36), 0.6982264000576079), ((0, 39), 0.9307743590868695), ((1, 0), 0.5148140300623116), ((1, 1), 0.87513806117255), ((1, 3), 0.9984276742950455), ((1, 4), 0.660758929047094), ((1, 7), 0.3755563810033928), ((1, 10), 0.7713658732117679), ((1, 11), 0.6151409127449011), ((1, 14), 0.8309188914230431), ((1, 17), 0.42631311952690376), ((1, 18), 0.6326621884344463), ((1, 21), 0.8241712946680544), ((1, 24), 0.6977023936581239), ((1, 25), 0.6566110377187125), ((1, 27), 0.3162136324629469), ((1, 28), 0.5373635716468382), ((1, 31), 0.6221470451366595), ((1, 32), 0.8833457018749943), ((1, 34), 0.7819428196910156), ((1, 35), 0.9188045733226488), ((1, 38), 0.5726316990658656), ((1, 39), 1.0392705370749085), ((0, 0), 0.6470616092935939), ((0, 3), 0.9026616038791504), ((0, 6), 0.6409029951228775), ((0, 7), 0.3728830761632872), ((0, 10), 0.6605541465803016), ((0, 13), 0.9484073139314874), ((0, 14), 0.6942673203150588), ((0, 17), 0.41537792261214135), ((0, 20), 0.4382649870212606), ((0, 21), 1.0254542055496811), ((0, 24), 0.8822667409683689), ((0, 27), 0.32131511606928687), ((0, 28), 0.6773962389742385), ((0, 30), 0.18779687864265548), ((0, 31), 0.6230157283034742), ((0, 34), 0.9629729819951699), ((0, 35), 0.8590701049359114), ((0, 37), 0.41235944174957356), ((0, 38), 0.6576909374745417), ((1, 2), 0.842309714741312), ((1, 5), 0.38866351222197815), ((1, 6), 0.6336781419474863), ((1, 8), 0.8846665614757492), ((1, 9), 0.7816575820943422), ((1, 12), 1.1006250698229532), ((1, 13), 0.903535143790804), ((1, 15), 0.7486187178956836), ((1, 16), 0.5751561095764192), ((1, 19), 0.7551890046153235), ((1, 20), 0.479078852270047), ((1, 22), 0.518220903270566), ((1, 23), 0.8981404827812969), ((1, 26), 0.611262364732085), ((1, 29), 0.25117141156299544), ((1, 30), 0.1774669550002999), ((1, 33), 0.5746662929131274), ((1, 36), 0.6615913488974445), ((1, 37), 0.5267692648801686)]\n"
          ]
        },
        {
          "output_type": "execute_result",
          "data": {
            "text/plain": [
              "True"
            ]
          },
          "metadata": {},
          "execution_count": 42
        }
      ]
    }
  ]
}